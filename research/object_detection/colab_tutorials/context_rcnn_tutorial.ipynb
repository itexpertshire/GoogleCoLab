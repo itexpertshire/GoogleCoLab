{
  "nbformat": 4,
  "nbformat_minor": 0,
  "metadata": {
    "accelerator": "GPU",
    "colab": {
      "name": "context_rcnn_tutorial.ipynb",
      "provenance": [],
      "include_colab_link": true
    },
    "kernelspec": {
      "display_name": "Python 3",
      "name": "python3"
    }
  },
  "cells": [
    {
      "cell_type": "markdown",
      "metadata": {
        "id": "view-in-github",
        "colab_type": "text"
      },
      "source": [
        "<a href=\"https://colab.research.google.com/github/itexpertshire/GoogleCoLab/blob/main/research/object_detection/colab_tutorials/context_rcnn_tutorial.ipynb\" target=\"_parent\"><img src=\"https://colab.research.google.com/assets/colab-badge.svg\" alt=\"Open In Colab\"/></a>"
      ]
    },
    {
      "cell_type": "markdown",
      "metadata": {
        "id": "jZc1kMel3sZP"
      },
      "source": [
        "# Context R-CNN Demo\n",
        "\n",
        "<table align=\"left\"><td>\n",
        "  <a target=\"_blank\"  href=\"https://colab.sandbox.google.com/github/tensorflow/models/blob/master/research/object_detection/colab_tutorials/context_rcnn_tutorial.ipynb\">\n",
        "    <img src=\"https://www.tensorflow.org/images/colab_logo_32px.png\" />Run in Google Colab\n",
        "  </a>\n",
        "</td><td>\n",
        "  <a target=\"_blank\"  href=\"https://github.com/tensorflow/models/blob/master/research/object_detection/colab_tutorials/context_rcnn_tutorial.ipynb\">\n",
        "    <img width=32px src=\"https://www.tensorflow.org/images/GitHub-Mark-32px.png\" />View source on GitHub</a>\n",
        "</td></table>\n"
      ]
    },
    {
      "cell_type": "markdown",
      "metadata": {
        "id": "XuHWvdag3_b9"
      },
      "source": [
        " This notebook will walk you step by step through the process of using a pre-trained model to build up a contextual memory bank for a set of images, and then detect objects in those images+context using [Context R-CNN](https://arxiv.org/abs/1912.03538)."
      ]
    },
    {
      "cell_type": "markdown",
      "metadata": {
        "id": "u0e-OOtn4hQ8"
      },
      "source": [
        "# Setup"
      ]
    },
    {
      "cell_type": "markdown",
      "metadata": {
        "id": "w-UrhxBw4iLA"
      },
      "source": [
        "Important: If you're running on a local machine, be sure to follow the [installation instructions](https://github.com/tensorflow/models/blob/master/research/object_detection/g3doc/installation.md). This notebook includes only what's necessary to run in Colab."
      ]
    },
    {
      "cell_type": "markdown",
      "metadata": {
        "id": "SAqMxS4V4lqS"
      },
      "source": [
        "### Install"
      ]
    },
    {
      "cell_type": "code",
      "metadata": {
        "id": "BPkovrxF4o8n"
      },
      "source": [
        "!pip install -U --pre tensorflow==\"2.*\"\n",
        "!pip install tf_slim"
      ],
      "execution_count": null,
      "outputs": []
    },
    {
      "cell_type": "markdown",
      "metadata": {
        "id": "zpKF8a2x4tec"
      },
      "source": [
        "Make sure you have `pycocotools` installed"
      ]
    },
    {
      "cell_type": "code",
      "metadata": {
        "id": "owcrp0AW4uCg"
      },
      "source": [
        "!pip install pycocotools"
      ],
      "execution_count": null,
      "outputs": []
    },
    {
      "cell_type": "markdown",
      "metadata": {
        "id": "wHFSRVaO4wuq"
      },
      "source": [
        "Get `tensorflow/models` or `cd` to parent directory of the repository."
      ]
    },
    {
      "cell_type": "code",
      "metadata": {
        "id": "E0ZuGKoi4wTn"
      },
      "source": [
        "import os\n",
        "import pathlib\n",
        "\n",
        "\n",
        "if \"models\" in pathlib.Path.cwd().parts:\n",
        "  while \"models\" in pathlib.Path.cwd().parts:\n",
        "    os.chdir('..')\n",
        "elif not pathlib.Path('models').exists():\n",
        "  !git clone --depth 1 https://github.com/tensorflow/models"
      ],
      "execution_count": null,
      "outputs": []
    },
    {
      "cell_type": "markdown",
      "metadata": {
        "id": "GkqRm-WY47MR"
      },
      "source": [
        "Compile protobufs and install the object_detection package"
      ]
    },
    {
      "cell_type": "code",
      "metadata": {
        "id": "62Dn1_YU45O2"
      },
      "source": [
        "%%bash\n",
        "python -m pip install --upgrade pip\n",
        "cd models/research/\n",
        "protoc object_detection/protos/*.proto --python_out=.\n",
        "cp object_detection/packages/tf2/setup.py .\n",
        "python -m pip install ."
      ],
      "execution_count": null,
      "outputs": []
    },
    {
      "cell_type": "markdown",
      "metadata": {
        "id": "LBdjK2G5ywuc"
      },
      "source": [
        "### Imports"
      ]
    },
    {
      "cell_type": "code",
      "metadata": {
        "id": "hV4P5gyTWKMI"
      },
      "source": [
        "import numpy as np\n",
        "import os\n",
        "import six\n",
        "import six.moves.urllib as urllib\n",
        "import sys\n",
        "import tarfile\n",
        "import tensorflow as tf\n",
        "import zipfile\n",
        "import pathlib\n",
        "import json\n",
        "import datetime\n",
        "import matplotlib.pyplot as plt\n",
        "\n",
        "from collections import defaultdict\n",
        "from io import StringIO\n",
        "from matplotlib import pyplot as plt\n",
        "from PIL import Image\n",
        "from IPython.display import display"
      ],
      "execution_count": null,
      "outputs": []
    },
    {
      "cell_type": "markdown",
      "metadata": {
        "id": "r5FNuiRPWKMN"
      },
      "source": [
        "Import the object detection module."
      ]
    },
    {
      "cell_type": "code",
      "metadata": {
        "id": "4-IMl4b6BdGO"
      },
      "source": [
        "from object_detection.utils import ops as utils_ops\n",
        "from object_detection.utils import label_map_util\n",
        "from object_detection.utils import visualization_utils as vis_utils"
      ],
      "execution_count": null,
      "outputs": []
    },
    {
      "cell_type": "markdown",
      "metadata": {
        "id": "RYPCiag2iz_q"
      },
      "source": [
        "Patches:"
      ]
    },
    {
      "cell_type": "code",
      "metadata": {
        "id": "mF-YlMl8c_bM"
      },
      "source": [
        "# patch tf1 into `utils.ops`\n",
        "utils_ops.tf = tf.compat.v1\n",
        "\n",
        "# Patch the location of gfile\n",
        "tf.gfile = tf.io.gfile"
      ],
      "execution_count": null,
      "outputs": []
    },
    {
      "cell_type": "markdown",
      "metadata": {
        "id": "cfn_tRFOWKMO"
      },
      "source": [
        "# Model preparation"
      ]
    },
    {
      "cell_type": "markdown",
      "metadata": {
        "id": "7ai8pLZZWKMS"
      },
      "source": [
        "## Loader"
      ]
    },
    {
      "cell_type": "code",
      "metadata": {
        "id": "zm8xp-0eoItE"
      },
      "source": [
        "def load_model(model_name):\n",
        "  base_url = 'http://download.tensorflow.org/models/object_detection/'\n",
        "  model_file = model_name + '.tar.gz'\n",
        "  model_dir = tf.keras.utils.get_file(\n",
        "    fname=model_name,\n",
        "    origin=base_url + model_file,\n",
        "    untar=True)\n",
        "\n",
        "  model_dir = pathlib.Path(model_dir)/\"saved_model\"\n",
        "  model = tf.saved_model.load(str(model_dir))\n",
        "  model = model.signatures['serving_default']\n",
        "\n",
        "  return model"
      ],
      "execution_count": null,
      "outputs": []
    },
    {
      "cell_type": "markdown",
      "metadata": {
        "id": "_1MVVTcLWKMW"
      },
      "source": [
        "## Loading label map\n",
        "Label maps map indices to category names, so that when our convolution network predicts `5`, we know that this corresponds to `zebra`.  Here we use internal utility functions, but anything that returns a dictionary mapping integers to appropriate string labels would be fine"
      ]
    },
    {
      "cell_type": "code",
      "metadata": {
        "id": "hDbpHkiWWKMX"
      },
      "source": [
        "# List of the strings that is used to add correct label for each box.\n",
        "PATH_TO_LABELS = 'models/research/object_detection/data/snapshot_serengeti_label_map.pbtxt'\n",
        "category_index = label_map_util.create_category_index_from_labelmap(PATH_TO_LABELS, use_display_name=False)"
      ],
      "execution_count": null,
      "outputs": []
    },
    {
      "cell_type": "markdown",
      "metadata": {
        "id": "oVU3U_J6IJVb"
      },
      "source": [
        "We will test on a context group of images from one month at one camera from the Snapshot Serengeti val split defined on [LILA.science](http://lila.science/datasets/snapshot-serengeti), which was not seen during model training:\n",
        "\n"
      ]
    },
    {
      "cell_type": "code",
      "metadata": {
        "id": "jG-zn5ykWKMd"
      },
      "source": [
        "# If you want to test the code with your images, just add path to the images to\n",
        "# the TEST_IMAGE_PATHS.\n",
        "PATH_TO_TEST_IMAGES_DIR = pathlib.Path('models/research/object_detection/test_images/snapshot_serengeti')\n",
        "TEST_IMAGE_PATHS = sorted(list(PATH_TO_TEST_IMAGES_DIR.glob(\"*.jpeg\")))\n",
        "TEST_IMAGE_PATHS"
      ],
      "execution_count": null,
      "outputs": []
    },
    {
      "cell_type": "markdown",
      "metadata": {
        "id": "oBcQzptnQ-x6"
      },
      "source": [
        "Load the metadata for each image"
      ]
    },
    {
      "cell_type": "code",
      "metadata": {
        "id": "ZLLINOHcQ-An"
      },
      "source": [
        "test_data_json = 'models/research/object_detection/test_images/snapshot_serengeti/context_rcnn_demo_metadata.json'\n",
        "with open(test_data_json, 'r') as f:\n",
        "  test_metadata = json.load(f)"
      ],
      "execution_count": null,
      "outputs": []
    },
    {
      "cell_type": "code",
      "metadata": {
        "id": "BgGTPHhkOAel"
      },
      "source": [
        "image_id_to_datetime = {im['id']:im['date_captured'] for im in test_metadata['images']}\n",
        "image_path_to_id = {im['file_name']: im['id']\n",
        "                    for im in test_metadata['images']}\n",
        "image_path_to_id"
      ],
      "execution_count": null,
      "outputs": []
    },
    {
      "cell_type": "markdown",
      "metadata": {
        "id": "H0_1AGhrWKMc"
      },
      "source": [
        "# Generate Context Features for each image"
      ]
    },
    {
      "cell_type": "code",
      "metadata": {
        "id": "kt3_pPQOj7ii"
      },
      "source": [
        "faster_rcnn_model_name = 'faster_rcnn_resnet101_snapshot_serengeti_2020_06_10'\n",
        "faster_rcnn_model = load_model(faster_rcnn_model_name)"
      ],
      "execution_count": null,
      "outputs": []
    },
    {
      "cell_type": "markdown",
      "metadata": {
        "id": "k6Clkv_mBo_U"
      },
      "source": [
        "Check the model's input signature, it expects a batch of 3-color images of type uint8."
      ]
    },
    {
      "cell_type": "code",
      "metadata": {
        "id": "H1qNlFESBsTR"
      },
      "source": [
        "faster_rcnn_model.inputs"
      ],
      "execution_count": null,
      "outputs": []
    },
    {
      "cell_type": "markdown",
      "metadata": {
        "id": "eYS8KpRCBtBH"
      },
      "source": [
        "And it returns several outputs. Note this model has been exported with additional output 'detection_features' which will be used to build the contextual memory bank."
      ]
    },
    {
      "cell_type": "code",
      "metadata": {
        "id": "5M-1yxgfkmQl"
      },
      "source": [
        "faster_rcnn_model.output_dtypes"
      ],
      "execution_count": null,
      "outputs": []
    },
    {
      "cell_type": "code",
      "metadata": {
        "id": "zVjNFFNIDCst"
      },
      "source": [
        "faster_rcnn_model.output_shapes"
      ],
      "execution_count": null,
      "outputs": []
    },
    {
      "cell_type": "markdown",
      "metadata": {
        "id": "JP5qZ7sXJpwG"
      },
      "source": [
        "Add a wrapper function to call the model, and cleanup the outputs:"
      ]
    },
    {
      "cell_type": "code",
      "metadata": {
        "id": "ajmR_exWyN76"
      },
      "source": [
        "def run_inference_for_single_image(model, image):\n",
        "  '''Run single image through tensorflow object detection saved_model.\n",
        "\n",
        "  This function runs a saved_model on a (single) provided image and returns\n",
        "  inference results in numpy arrays.\n",
        "\n",
        "  Args:\n",
        "    model: tensorflow saved_model. This model can be obtained using\n",
        "      export_inference_graph.py.\n",
        "    image: uint8 numpy array with shape (img_height, img_width, 3)\n",
        "\n",
        "  Returns:\n",
        "    output_dict: a dictionary holding the following entries:\n",
        "      `num_detections`: an integer\n",
        "      `detection_boxes`: a numpy (float32) array of shape [N, 4]\n",
        "      `detection_classes`: a numpy (uint8) array of shape [N]\n",
        "      `detection_scores`: a numpy (float32) array of shape [N]\n",
        "      `detection_features`: a numpy (float32) array of shape [N, 7, 7, 2048]\n",
        "  '''\n",
        "  image = np.asarray(image)\n",
        "  # The input needs to be a tensor, convert it using `tf.convert_to_tensor`.\n",
        "  input_tensor = tf.convert_to_tensor(image)\n",
        "  # The model expects a batch of images, so add an axis with `tf.newaxis`.\n",
        "  input_tensor = input_tensor[tf.newaxis,...]\n",
        "\n",
        "  # Run inference\n",
        "  output_dict = model(input_tensor)\n",
        "  # All outputs are batches tensors.\n",
        "  # Convert to numpy arrays, and take index [0] to remove the batch dimension.\n",
        "  # We're only interested in the first num_detections.\n",
        "  num_dets = output_dict.pop('num_detections')\n",
        "  num_detections = int(num_dets)\n",
        "  for key,value in output_dict.items():\n",
        "    output_dict[key] = value[0, :num_detections].numpy()\n",
        "  output_dict['num_detections'] = num_detections\n",
        "\n",
        "  # detection_classes should be ints.\n",
        "  output_dict['detection_classes'] = output_dict['detection_classes'].astype(\n",
        "      np.int64)\n",
        "  return output_dict"
      ],
      "execution_count": null,
      "outputs": []
    },
    {
      "cell_type": "markdown",
      "metadata": {
        "id": "un5SXxIxMaaV"
      },
      "source": [
        "Functions for embedding context features"
      ]
    },
    {
      "cell_type": "code",
      "metadata": {
        "id": "qvtvAZFDMoTM"
      },
      "source": [
        "def embed_date_captured(date_captured):\n",
        "  \"\"\"Encodes the datetime of the image.\n",
        "\n",
        "  Takes a datetime object and encodes it into a normalized embedding of shape\n",
        "  [5], using hard-coded normalization factors for year, month, day, hour,\n",
        "  minute.\n",
        "\n",
        "  Args:\n",
        "    date_captured: A datetime object.\n",
        "\n",
        "  Returns:\n",
        "    A numpy float32 embedding of shape [5].\n",
        "  \"\"\"\n",
        "  embedded_date_captured = []\n",
        "  month_max = 12.0\n",
        "  day_max = 31.0\n",
        "  hour_max = 24.0\n",
        "  minute_max = 60.0\n",
        "  min_year = 1990.0\n",
        "  max_year = 2030.0\n",
        "\n",
        "  year = (date_captured.year-min_year)/float(max_year-min_year)\n",
        "  embedded_date_captured.append(year)\n",
        "\n",
        "  month = (date_captured.month-1)/month_max\n",
        "  embedded_date_captured.append(month)\n",
        "\n",
        "  day = (date_captured.day-1)/day_max\n",
        "  embedded_date_captured.append(day)\n",
        "\n",
        "  hour = date_captured.hour/hour_max\n",
        "  embedded_date_captured.append(hour)\n",
        "\n",
        "  minute = date_captured.minute/minute_max\n",
        "  embedded_date_captured.append(minute)\n",
        "\n",
        "  return np.asarray(embedded_date_captured)"
      ],
      "execution_count": null,
      "outputs": []
    },
    {
      "cell_type": "code",
      "metadata": {
        "id": "xN8k5daOOA7b"
      },
      "source": [
        "def embed_position_and_size(box):\n",
        "  \"\"\"Encodes the bounding box of the object of interest.\n",
        "\n",
        "  Takes a bounding box and encodes it into a normalized embedding of shape\n",
        "  [4] - the center point (x,y) and width and height of the box.\n",
        "\n",
        "  Args:\n",
        "    box: A bounding box, formatted as [ymin, xmin, ymax, xmax].\n",
        "\n",
        "  Returns:\n",
        "    A numpy float32 embedding of shape [4].\n",
        "  \"\"\"\n",
        "  ymin = box[0]\n",
        "  xmin = box[1]\n",
        "  ymax = box[2]\n",
        "  xmax = box[3]\n",
        "  w = xmax - xmin\n",
        "  h = ymax - ymin\n",
        "  x = xmin + w / 2.0\n",
        "  y = ymin + h / 2.0\n",
        "  return np.asarray([x, y, w, h])"
      ],
      "execution_count": null,
      "outputs": []
    },
    {
      "cell_type": "code",
      "metadata": {
        "id": "lJe2qy8HPc6Z"
      },
      "source": [
        "def get_context_feature_embedding(date_captured, detection_boxes,\n",
        "                                  detection_features, detection_scores):\n",
        "  \"\"\"Extracts representative feature embedding for a given input image.\n",
        "\n",
        "  Takes outputs of a detection model and focuses on the highest-confidence\n",
        "  detected object. Starts with detection_features and uses average pooling to\n",
        "  remove the spatial dimensions, then appends an embedding of the box position\n",
        "  and size, and an embedding of the date and time the image was captured,\n",
        "  returning a one-dimensional representation of the object.\n",
        "\n",
        "  Args:\n",
        "    date_captured: A datetime string of format '%Y-%m-%d %H:%M:%S'.\n",
        "    detection_features: A numpy (float32) array of shape [N, 7, 7, 2048].\n",
        "    detection_boxes: A numpy (float32) array of shape [N, 4].\n",
        "    detection_scores: A numpy (float32) array of shape [N].\n",
        "\n",
        "  Returns:\n",
        "    A numpy float32 embedding of shape [2057].\n",
        "  \"\"\"\n",
        "  date_captured = datetime.datetime.strptime(date_captured,'%Y-%m-%d %H:%M:%S')\n",
        "  temporal_embedding = embed_date_captured(date_captured)\n",
        "  embedding = detection_features[0]\n",
        "  pooled_embedding = np.mean(np.mean(embedding, axis=1), axis=0)\n",
        "  box = detection_boxes[0]\n",
        "  position_embedding = embed_position_and_size(box)\n",
        "  bb_embedding = np.concatenate((pooled_embedding, position_embedding))\n",
        "  embedding = np.expand_dims(np.concatenate((bb_embedding,temporal_embedding)),\n",
        "                             axis=0)\n",
        "  score = detection_scores[0]\n",
        "  return embedding, score"
      ],
      "execution_count": null,
      "outputs": []
    },
    {
      "cell_type": "markdown",
      "metadata": {
        "id": "z1wq0LVyMRR_"
      },
      "source": [
        "Run it on each test image and use the output detection features and metadata to build up a context feature bank:"
      ]
    },
    {
      "cell_type": "code",
      "metadata": {
        "id": "DWh_1zz6aqxs"
      },
      "source": [
        "def run_inference(model, image_path, date_captured, resize_image=True):\n",
        "  \"\"\"Runs inference over a single input image and extracts contextual features.\n",
        "\n",
        "  Args:\n",
        "    model: A tensorflow saved_model object.\n",
        "    image_path: Absolute path to the input image.\n",
        "    date_captured: A datetime string of format '%Y-%m-%d %H:%M:%S'.\n",
        "    resize_image: Whether to resize the input image before running inference.\n",
        "\n",
        "  Returns:\n",
        "    context_feature: A numpy float32 array of shape [2057].\n",
        "    score: A numpy float32 object score for the embedded object.\n",
        "    output_dict: The saved_model output dictionary for the image.\n",
        "  \"\"\"\n",
        "  with open(image_path,'rb') as f:\n",
        "    image = Image.open(f)\n",
        "    if resize_image:\n",
        "      image.thumbnail((640,640),Image.ANTIALIAS)\n",
        "    image_np = np.array(image)\n",
        "\n",
        "  # Actual detection.\n",
        "  output_dict = run_inference_for_single_image(model, image_np)\n",
        "\n",
        "  context_feature, score = get_context_feature_embedding(\n",
        "      date_captured, output_dict['detection_boxes'],\n",
        "      output_dict['detection_features'], output_dict['detection_scores'])\n",
        "  return context_feature, score, output_dict"
      ],
      "execution_count": null,
      "outputs": []
    },
    {
      "cell_type": "code",
      "metadata": {
        "id": "3a5wMHN8WKMh"
      },
      "source": [
        "context_features = []\n",
        "scores = []\n",
        "faster_rcnn_results = {}\n",
        "for image_path in TEST_IMAGE_PATHS:\n",
        "  image_id = image_path_to_id[str(image_path)]\n",
        "  date_captured = image_id_to_datetime[image_id]\n",
        "  context_feature, score, results = run_inference(\n",
        "      faster_rcnn_model, image_path, date_captured)\n",
        "  faster_rcnn_results[image_id] = results\n",
        "  context_features.append(context_feature)\n",
        "  scores.append(score)\n",
        "\n",
        "# Concatenate all extracted context embeddings into a contextual memory bank.\n",
        "context_features_matrix = np.concatenate(context_features, axis=0)\n"
      ],
      "execution_count": null,
      "outputs": []
    },
    {
      "cell_type": "markdown",
      "metadata": {
        "id": "DsspMPX3Cssg"
      },
      "source": [
        "## Run Detection With Context"
      ]
    },
    {
      "cell_type": "markdown",
      "metadata": {
        "id": "f7aOtOlebK7h"
      },
      "source": [
        "Load a context r-cnn object detection model:"
      ]
    },
    {
      "cell_type": "code",
      "metadata": {
        "id": "1XNT0wxybKR6"
      },
      "source": [
        "context_rcnn_model_name = 'context_rcnn_resnet101_snapshot_serengeti_2020_06_10'\n",
        "context_rcnn_model = load_model(context_rcnn_model_name)\n"
      ],
      "execution_count": null,
      "outputs": []
    },
    {
      "cell_type": "markdown",
      "metadata": {
        "id": "G6IGGtGqBH6y"
      },
      "source": [
        "We need to define the expected context padding size for the\n",
        "model, this must match the definition in the model config (max_num_context_features)."
      ]
    },
    {
      "cell_type": "code",
      "metadata": {
        "id": "4oh9XNLBjkTL"
      },
      "source": [
        "context_padding_size = 2000"
      ],
      "execution_count": null,
      "outputs": []
    },
    {
      "cell_type": "markdown",
      "metadata": {
        "id": "yN1AYfAEJIGp"
      },
      "source": [
        "Check the model's input signature, it expects a batch of 3-color images of type uint8, plus context_features padded to the maximum context feature size for this model (2000) and valid_context_size to represent the non-padded context features:"
      ]
    },
    {
      "cell_type": "code",
      "metadata": {
        "id": "CK4cnry6wsHY"
      },
      "source": [
        "context_rcnn_model.inputs"
      ],
      "execution_count": null,
      "outputs": []
    },
    {
      "cell_type": "markdown",
      "metadata": {
        "id": "Q8u3BjpMJXZF"
      },
      "source": [
        "And returns several outputs:"
      ]
    },
    {
      "cell_type": "code",
      "metadata": {
        "id": "oLSZpfaYwuSk"
      },
      "source": [
        "context_rcnn_model.output_dtypes"
      ],
      "execution_count": null,
      "outputs": []
    },
    {
      "cell_type": "code",
      "metadata": {
        "id": "FZyKUJeuxvpT"
      },
      "source": [
        "context_rcnn_model.output_shapes"
      ],
      "execution_count": null,
      "outputs": []
    },
    {
      "cell_type": "code",
      "metadata": {
        "id": "CzkVv_n2MxKC"
      },
      "source": [
        "def run_context_rcnn_inference_for_single_image(\n",
        "    model, image, context_features, context_padding_size):\n",
        "  '''Run single image through a Context R-CNN saved_model.\n",
        "\n",
        "  This function runs a saved_model on a (single) provided image and provided\n",
        "  contextual features and returns inference results in numpy arrays.\n",
        "\n",
        "  Args:\n",
        "    model: tensorflow Context R-CNN saved_model. This model can be obtained\n",
        "      using export_inference_graph.py and setting side_input fields.\n",
        "      Example export call -\n",
        "        python export_inference_graph.py \\\n",
        "          --input_type image_tensor \\\n",
        "          --pipeline_config_path /path/to/context_rcnn_model.config \\\n",
        "          --trained_checkpoint_prefix /path/to/context_rcnn_model.ckpt \\\n",
        "          --output_directory /path/to/output_dir \\\n",
        "          --use_side_inputs True \\\n",
        "          --side_input_shapes 1,2000,2057/1 \\\n",
        "          --side_input_names context_features,valid_context_size \\\n",
        "          --side_input_types float,int \\\n",
        "          --input_shape 1,-1,-1,3\n",
        "\n",
        "    image: uint8 numpy array with shape (img_height, img_width, 3)\n",
        "    context_features: A numpy float32 contextual memory bank of shape\n",
        "      [num_context_examples, 2057]\n",
        "    context_padding_size: The amount of expected padding in the contextual\n",
        "      memory bank, defined in the Context R-CNN config as\n",
        "      max_num_context_features.\n",
        "\n",
        "  Returns:\n",
        "    output_dict: a dictionary holding the following entries:\n",
        "      `num_detections`: an integer\n",
        "      `detection_boxes`: a numpy (float32) array of shape [N, 4]\n",
        "      `detection_classes`: a numpy (uint8) array of shape [N]\n",
        "      `detection_scores`: a numpy (float32) array of shape [N]\n",
        "  '''\n",
        "  image = np.asarray(image)\n",
        "  # The input image needs to be a tensor, convert it using\n",
        "  # `tf.convert_to_tensor`.\n",
        "  image_tensor = tf.convert_to_tensor(\n",
        "      image, name='image_tensor')[tf.newaxis,...]\n",
        "\n",
        "  context_features = np.asarray(context_features)\n",
        "  valid_context_size = context_features.shape[0]\n",
        "  valid_context_size_tensor = tf.convert_to_tensor(\n",
        "      valid_context_size, name='valid_context_size')[tf.newaxis,...]\n",
        "  padded_context_features = np.pad(\n",
        "      context_features,\n",
        "      ((0,context_padding_size-valid_context_size),(0,0)), mode='constant')\n",
        "  padded_context_features_tensor = tf.convert_to_tensor(\n",
        "      padded_context_features,\n",
        "      name='context_features',\n",
        "      dtype=tf.float32)[tf.newaxis,...]\n",
        "\n",
        "  # Run inference\n",
        "  output_dict = model(\n",
        "      inputs=image_tensor,\n",
        "      context_features=padded_context_features_tensor,\n",
        "      valid_context_size=valid_context_size_tensor)\n",
        "  # All outputs are batches tensors.\n",
        "  # Convert to numpy arrays, and take index [0] to remove the batch dimension.\n",
        "  # We're only interested in the first num_detections.\n",
        "  num_dets = output_dict.pop('num_detections')\n",
        "  num_detections = int(num_dets)\n",
        "  for key,value in output_dict.items():\n",
        "    output_dict[key] = value[0, :num_detections].numpy()\n",
        "  output_dict['num_detections'] = num_detections\n",
        "\n",
        "  # detection_classes should be ints.\n",
        "  output_dict['detection_classes'] = output_dict['detection_classes'].astype(np.int64)\n",
        "  return output_dict"
      ],
      "execution_count": null,
      "outputs": []
    },
    {
      "cell_type": "code",
      "metadata": {
        "id": "0FqVkR3Agc6U"
      },
      "source": [
        "def show_context_rcnn_inference(\n",
        "    model, image_path, context_features, faster_rcnn_output_dict,\n",
        "    context_padding_size, resize_image=True):\n",
        "  \"\"\"Runs inference over a single input image and visualizes Faster R-CNN vs.\n",
        "  Context R-CNN results.\n",
        "\n",
        "  Args:\n",
        "    model: A tensorflow saved_model object.\n",
        "    image_path: Absolute path to the input image.\n",
        "    context_features: A numpy float32 contextual memory bank of shape\n",
        "      [num_context_examples, 2057]\n",
        "    faster_rcnn_output_dict: The output_dict corresponding to this input image\n",
        "      from the single-frame Faster R-CNN model, which was previously used to\n",
        "      build the memory bank.\n",
        "    context_padding_size: The amount of expected padding in the contextual\n",
        "      memory bank, defined in the Context R-CNN config as\n",
        "      max_num_context_features.\n",
        "    resize_image: Whether to resize the input image before running inference.\n",
        "\n",
        "  Returns:\n",
        "    context_rcnn_image_np: Numpy image array showing Context R-CNN Results.\n",
        "    faster_rcnn_image_np: Numpy image array showing Faster R-CNN Results.\n",
        "  \"\"\"\n",
        "\n",
        "  # the array based representation of the image will be used later in order to prepare the\n",
        "  # result image with boxes and labels on it.\n",
        "  with open(image_path,'rb') as f:\n",
        "    image = Image.open(f)\n",
        "    if resize_image:\n",
        "      image.thumbnail((640,640),Image.ANTIALIAS)\n",
        "    image_np = np.array(image)\n",
        "    image.thumbnail((400,400),Image.ANTIALIAS)\n",
        "    context_rcnn_image_np = np.array(image)\n",
        "\n",
        "  faster_rcnn_image_np = np.copy(context_rcnn_image_np)\n",
        "\n",
        "  # Actual detection.\n",
        "  output_dict = run_context_rcnn_inference_for_single_image(\n",
        "      model, image_np, context_features, context_padding_size)\n",
        "\n",
        "  # Visualization of the results of a context_rcnn detection.\n",
        "  vis_utils.visualize_boxes_and_labels_on_image_array(\n",
        "      context_rcnn_image_np,\n",
        "      output_dict['detection_boxes'],\n",
        "      output_dict['detection_classes'],\n",
        "      output_dict['detection_scores'],\n",
        "      category_index,\n",
        "      use_normalized_coordinates=True,\n",
        "      line_thickness=2)\n",
        "\n",
        "  # Visualization of the results of a faster_rcnn detection.\n",
        "  vis_utils.visualize_boxes_and_labels_on_image_array(\n",
        "      faster_rcnn_image_np,\n",
        "      faster_rcnn_output_dict['detection_boxes'],\n",
        "      faster_rcnn_output_dict['detection_classes'],\n",
        "      faster_rcnn_output_dict['detection_scores'],\n",
        "      category_index,\n",
        "      use_normalized_coordinates=True,\n",
        "      line_thickness=2)\n",
        "  return context_rcnn_image_np, faster_rcnn_image_np"
      ],
      "execution_count": null,
      "outputs": []
    },
    {
      "cell_type": "markdown",
      "metadata": {
        "id": "3cYa2B8uAYx0"
      },
      "source": [
        "Define Matplotlib parameters for pretty visualizations"
      ]
    },
    {
      "cell_type": "code",
      "metadata": {
        "id": "9F8okR1uAQ0T"
      },
      "source": [
        "%matplotlib inline\n",
        "plt.rcParams['axes.grid'] = False\n",
        "plt.rcParams['xtick.labelsize'] = False\n",
        "plt.rcParams['ytick.labelsize'] = False\n",
        "plt.rcParams['xtick.top'] = False\n",
        "plt.rcParams['xtick.bottom'] = False\n",
        "plt.rcParams['ytick.left'] = False\n",
        "plt.rcParams['ytick.right'] = False\n",
        "plt.rcParams['figure.figsize'] = [15,10]"
      ],
      "execution_count": null,
      "outputs": []
    },
    {
      "cell_type": "markdown",
      "metadata": {
        "id": "YGj7nXXQAaQ7"
      },
      "source": [
        "Run Context R-CNN inference and compare results to Faster R-CNN"
      ]
    },
    {
      "cell_type": "code",
      "metadata": {
        "id": "vQ2Sj2VIOZLA"
      },
      "source": [
        "for image_path in TEST_IMAGE_PATHS:\n",
        "  image_id = image_path_to_id[str(image_path)]\n",
        "  faster_rcnn_output_dict = faster_rcnn_results[image_id]\n",
        "  context_rcnn_image, faster_rcnn_image = show_context_rcnn_inference(\n",
        "      context_rcnn_model, image_path, context_features_matrix,\n",
        "      faster_rcnn_output_dict, context_padding_size)\n",
        "  plt.subplot(1,2,1)\n",
        "  plt.imshow(faster_rcnn_image)\n",
        "  plt.title('Faster R-CNN')\n",
        "  plt.subplot(1,2,2)\n",
        "  plt.imshow(context_rcnn_image)\n",
        "  plt.title('Context R-CNN')\n",
        "  plt.show()"
      ],
      "execution_count": null,
      "outputs": []
    },
    {
      "cell_type": "markdown",
      "metadata": {
        "id": "lMombPr0GF9a"
      },
      "source": [
        "The images used in this demo are from the [Snapshot Serengeti dataset](http://lila.science/datasets/snapshot-serengeti), and released under the [Community Data License Agreement (permissive variant)](https://cdla.io/permissive-1-0/)."
      ]
    }
  ]
}