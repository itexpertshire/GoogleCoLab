{
  "nbformat": 4,
  "nbformat_minor": 0,
  "metadata": {
    "colab": {
      "provenance": [],
      "gpuType": "T4",
      "include_colab_link": true
    },
    "kernelspec": {
      "name": "python3",
      "display_name": "Python 3"
    },
    "language_info": {
      "name": "python"
    },
    "accelerator": "GPU"
  },
  "cells": [
    {
      "cell_type": "markdown",
      "metadata": {
        "id": "view-in-github",
        "colab_type": "text"
      },
      "source": [
        "<a href=\"https://colab.research.google.com/github/itexpertshire/GoogleCoLab/blob/main/Amit_Tflite_Model_Maker_Python_3_9.ipynb\" target=\"_parent\"><img src=\"https://colab.research.google.com/assets/colab-badge.svg\" alt=\"Open In Colab\"/></a>"
      ]
    },
    {
      "cell_type": "code",
      "execution_count": 12,
      "metadata": {
        "id": "ubhAiATjXk7a",
        "outputId": "ad8b3bf9-5310-4827-b0cf-d0325712b537",
        "colab": {
          "base_uri": "https://localhost:8080/"
        }
      },
      "outputs": [
        {
          "output_type": "stream",
          "name": "stdout",
          "text": [
            "env: PYTHONPATH=# /env/python\n"
          ]
        }
      ],
      "source": [
        "%env PYTHONPATH = # /env/python"
      ]
    },
    {
      "cell_type": "code",
      "source": [
        "# Download and install and update miniconda\n",
        "!wget https://repo.anaconda.com/miniconda/Miniconda3-py39_23.3.1-0-Linux-x86_64.sh\n",
        "!chmod +x Miniconda3-py39_23.3.1-0-Linux-x86_64.sh\n",
        "!./Miniconda3-py39_23.3.1-0-Linux-x86_64.sh -b -f -p /usr/local\n",
        "!conda update -q conda"
      ],
      "metadata": {
        "id": "iwymZeUxYnEt"
      },
      "execution_count": null,
      "outputs": []
    },
    {
      "cell_type": "code",
      "source": [
        "import sys\n",
        "sys.path.append('/usr/local/lib/python3.9/site-packages')"
      ],
      "metadata": {
        "id": "EWedsUfmYq1s"
      },
      "execution_count": 15,
      "outputs": []
    },
    {
      "cell_type": "code",
      "source": [
        "# Create conda environment with python 3.9\n",
        "!conda create -n myenv python=3.9"
      ],
      "metadata": {
        "id": "4R1a1OxjYtJp",
        "outputId": "c96216bd-718f-4e46-bfd1-bc8c38d21e3e",
        "colab": {
          "base_uri": "https://localhost:8080/"
        }
      },
      "execution_count": 16,
      "outputs": [
        {
          "output_type": "stream",
          "name": "stdout",
          "text": [
            "WARNING: A conda environment already exists at '/usr/local/envs/myenv'\n",
            "Remove existing environment (y/[n])? y\n",
            "\n",
            "Collecting package metadata (current_repodata.json): - \b\b\\ \b\b| \b\b/ \b\b- \b\b\\ \b\b| \b\b/ \b\b- \b\b\\ \b\b| \b\b/ \b\b- \b\b\\ \b\b| \b\b/ \b\b- \b\b\\ \b\b| \b\b/ \b\b- \b\b\\ \b\b| \b\b/ \b\b- \b\b\\ \b\b| \b\b/ \b\b- \b\b\\ \b\b| \b\b/ \b\b- \b\b\\ \b\b| \b\b/ \b\b- \b\b\\ \b\bdone\n",
            "Solving environment: / \b\b- \b\bdone\n",
            "\n",
            "## Package Plan ##\n",
            "\n",
            "  environment location: /usr/local/envs/myenv\n",
            "\n",
            "  added / updated specs:\n",
            "    - python=3.9\n",
            "\n",
            "\n",
            "The following NEW packages will be INSTALLED:\n",
            "\n",
            "  _libgcc_mutex      pkgs/main/linux-64::_libgcc_mutex-0.1-main \n",
            "  _openmp_mutex      pkgs/main/linux-64::_openmp_mutex-5.1-1_gnu \n",
            "  ca-certificates    pkgs/main/linux-64::ca-certificates-2023.05.30-h06a4308_0 \n",
            "  ld_impl_linux-64   pkgs/main/linux-64::ld_impl_linux-64-2.38-h1181459_1 \n",
            "  libffi             pkgs/main/linux-64::libffi-3.4.4-h6a678d5_0 \n",
            "  libgcc-ng          pkgs/main/linux-64::libgcc-ng-11.2.0-h1234567_1 \n",
            "  libgomp            pkgs/main/linux-64::libgomp-11.2.0-h1234567_1 \n",
            "  libstdcxx-ng       pkgs/main/linux-64::libstdcxx-ng-11.2.0-h1234567_1 \n",
            "  ncurses            pkgs/main/linux-64::ncurses-6.4-h6a678d5_0 \n",
            "  openssl            pkgs/main/linux-64::openssl-3.0.10-h7f8727e_0 \n",
            "  pip                pkgs/main/linux-64::pip-23.2.1-py39h06a4308_0 \n",
            "  python             pkgs/main/linux-64::python-3.9.17-h955ad1f_0 \n",
            "  readline           pkgs/main/linux-64::readline-8.2-h5eee18b_0 \n",
            "  setuptools         pkgs/main/linux-64::setuptools-68.0.0-py39h06a4308_0 \n",
            "  sqlite             pkgs/main/linux-64::sqlite-3.41.2-h5eee18b_0 \n",
            "  tk                 pkgs/main/linux-64::tk-8.6.12-h1ccaba5_0 \n",
            "  tzdata             pkgs/main/noarch::tzdata-2023c-h04d1e81_0 \n",
            "  wheel              pkgs/main/linux-64::wheel-0.38.4-py39h06a4308_0 \n",
            "  xz                 pkgs/main/linux-64::xz-5.4.2-h5eee18b_0 \n",
            "  zlib               pkgs/main/linux-64::zlib-1.2.13-h5eee18b_0 \n",
            "\n",
            "\n",
            "Proceed ([y]/n)? y\n",
            "\n",
            "\n",
            "Downloading and Extracting Packages\n",
            "\n",
            "Preparing transaction: | \b\b/ \b\b- \b\b\\ \b\bdone\n",
            "Verifying transaction: / \b\b- \b\b\\ \b\b| \b\b/ \b\b- \b\b\\ \b\b| \b\b/ \b\b- \b\b\\ \b\b| \b\b/ \b\b- \b\b\\ \b\b| \b\b/ \b\bdone\n",
            "Executing transaction: \\ \b\b| \b\b/ \b\b- \b\b\\ \b\b| \b\b/ \b\b- \b\b\\ \b\b| \b\bdone\n",
            "#\n",
            "# To activate this environment, use\n",
            "#\n",
            "#     $ conda activate myenv\n",
            "#\n",
            "# To deactivate an active environment, use\n",
            "#\n",
            "#     $ conda deactivate\n",
            "\n"
          ]
        }
      ]
    },
    {
      "cell_type": "code",
      "source": [
        "# Upload your own train.py or download this existing one\n",
        "!wget https://raw.githubusercontent.com/wwfish/tflite-model-maker/main/train.py"
      ],
      "metadata": {
        "id": "uyFD8uFYbuhU"
      },
      "execution_count": null,
      "outputs": []
    },
    {
      "cell_type": "code",
      "source": [
        "# Download and Unzip Files\n",
        "!wget https://storage.googleapis.com/download.tensorflow.org/data/android_figurine.zip\n",
        "!unzip -q android_figurine.zip"
      ],
      "metadata": {
        "id": "gGP3_XQLZQ3S"
      },
      "execution_count": null,
      "outputs": []
    },
    {
      "cell_type": "code",
      "source": [
        "# Install dependencies in the new environment. You need to force acitvate conda everytime\n",
        "%%shell\n",
        "eval \"$(conda shell.bash hook)\"\n",
        "conda activate myenv\n",
        "pip install -q tflite-model-maker\n",
        "pip3 install -q pycocotools\n",
        "pip install -q ipykernel\n",
        "pip install -q numpy==1.23.4"
      ],
      "metadata": {
        "id": "XjIuOnAYYyCm"
      },
      "execution_count": null,
      "outputs": []
    },
    {
      "cell_type": "code",
      "source": [
        "# Run your training and eval script as an external python script\n",
        "%%shell\n",
        "eval \"$(conda shell.bash hook)\"\n",
        "conda activate myenv\n",
        "python /content/train.py"
      ],
      "metadata": {
        "id": "_kgUrn27byMe",
        "outputId": "688cde38-be12-4440-e6f7-01b470038c36",
        "colab": {
          "base_uri": "https://localhost:8080/"
        }
      },
      "execution_count": 18,
      "outputs": [
        {
          "output_type": "stream",
          "name": "stdout",
          "text": [
            "/usr/local/envs/myenv/lib/python3.9/site-packages/tensorflow_addons/utils/tfa_eol_msg.py:23: UserWarning: \n",
            "\n",
            "TensorFlow Addons (TFA) has ended development and introduction of new features.\n",
            "TFA has entered a minimal maintenance and release mode until a planned end of life in May 2024.\n",
            "Please modify downstream libraries to take dependencies from other repositories in our TensorFlow community (e.g. Keras, Keras-CV, and Keras-NLP). \n",
            "\n",
            "For more information see: https://github.com/tensorflow/addons/issues/2807 \n",
            "\n",
            "  warnings.warn(\n",
            "/usr/local/envs/myenv/lib/python3.9/site-packages/tensorflow_addons/utils/ensure_tf_install.py:53: UserWarning: Tensorflow Addons supports using Python ops for all Tensorflow versions above or equal to 2.11.0 and strictly below 2.14.0 (nightly versions are not supported). \n",
            " The versions of TensorFlow you are currently using is 2.8.4 and is not supported. \n",
            "Some things might work, some things might not.\n",
            "If you were to encounter a bug, do not file an issue.\n",
            "If you want to make sure you're using a tested and supported configuration, either change the TensorFlow version or the TensorFlow Addons's version. \n",
            "You can find the compatibility matrix in TensorFlow Addon's readme:\n",
            "https://github.com/tensorflow/addons\n",
            "  warnings.warn(\n",
            "\n",
            "Tensorflow Version:\n",
            "2.8.4\n",
            "\n",
            "2023-08-04 14:48:57.062340: W tensorflow/stream_executor/platform/default/dso_loader.cc:64] Could not load dynamic library 'libcuda.so.1'; dlerror: libcuda.so.1: cannot open shared object file: No such file or directory; LD_LIBRARY_PATH: /usr/local/envs/myenv/lib/python3.9/site-packages/cv2/../../lib64:/usr/local/nvidia/lib:/usr/local/nvidia/lib64\n",
            "2023-08-04 14:48:57.062383: W tensorflow/stream_executor/cuda/cuda_driver.cc:269] failed call to cuInit: UNKNOWN ERROR (303)\n",
            "2023-08-04 14:48:57.062407: I tensorflow/stream_executor/cuda/cuda_diagnostics.cc:156] kernel driver does not appear to be running on this host (8e6c9649ec66): /proc/driver/nvidia/version does not exist\n",
            "2023-08-04 14:48:57.062912: I tensorflow/core/platform/cpu_feature_guard.cc:151] This TensorFlow binary is optimized with oneAPI Deep Neural Network Library (oneDNN) to use the following CPU instructions in performance-critical operations:  AVX2 FMA\n",
            "To enable them in other operations, rebuild TensorFlow with the appropriate compiler flags.\n",
            "2023-08-04 14:49:19.739757: W tensorflow/core/framework/dataset.cc:768] Input of GeneratorDatasetOp::Dataset will not be optimized because the dataset does not implement the AsGraphDefInternal() method needed to apply optimizations.\n",
            "Epoch 1/20\n",
            "2023-08-04 14:50:13.993221: W tensorflow/core/framework/cpu_allocator_impl.cc:82] Allocation of 77070336 exceeds 10% of free system memory.\n",
            "2023-08-04 14:50:14.155766: W tensorflow/core/framework/cpu_allocator_impl.cc:82] Allocation of 77070336 exceeds 10% of free system memory.\n",
            "2023-08-04 14:50:23.965054: W tensorflow/core/framework/cpu_allocator_impl.cc:82] Allocation of 77070336 exceeds 10% of free system memory.\n",
            "2023-08-04 14:50:24.117001: W tensorflow/core/framework/cpu_allocator_impl.cc:82] Allocation of 77070336 exceeds 10% of free system memory.\n",
            " 1/15 [=>............................] - ETA: 15:47 - det_loss: 1.8227 - cls_loss: 1.1491 - box_loss: 0.0135 - reg_l2_loss: 0.0759 - loss: 1.8986 - learning_rate: 0.0080 - gradient_norm: 2.79342023-08-04 14:50:27.700706: W tensorflow/core/framework/cpu_allocator_impl.cc:82] Allocation of 77070336 exceeds 10% of free system memory.\n",
            "15/15 [==============================] - ETA: 0s - det_loss: 1.6981 - cls_loss: 1.1243 - box_loss: 0.0115 - reg_l2_loss: 0.0759 - loss: 1.7740 - learning_rate: 0.0066 - gradient_norm: 2.03882023-08-04 14:52:19.846013: W tensorflow/core/framework/dataset.cc:768] Input of GeneratorDatasetOp::Dataset will not be optimized because the dataset does not implement the AsGraphDefInternal() method needed to apply optimizations.\n",
            "15/15 [==============================] - 197s 9s/step - det_loss: 1.6894 - cls_loss: 1.1211 - box_loss: 0.0114 - reg_l2_loss: 0.0759 - loss: 1.7653 - learning_rate: 0.0065 - gradient_norm: 2.0173 - val_det_loss: 1.5469 - val_cls_loss: 1.0680 - val_box_loss: 0.0096 - val_reg_l2_loss: 0.0759 - val_loss: 1.6228\n",
            "Epoch 2/20\n",
            "15/15 [==============================] - ETA: 0s - det_loss: 1.4359 - cls_loss: 1.0075 - box_loss: 0.0086 - reg_l2_loss: 0.0759 - loss: 1.5118 - learning_rate: 0.0049 - gradient_norm: 2.41412023-08-04 14:54:35.086098: W tensorflow/core/framework/dataset.cc:768] Input of GeneratorDatasetOp::Dataset will not be optimized because the dataset does not implement the AsGraphDefInternal() method needed to apply optimizations.\n",
            "15/15 [==============================] - 132s 9s/step - det_loss: 1.4242 - cls_loss: 0.9997 - box_loss: 0.0085 - reg_l2_loss: 0.0759 - loss: 1.5001 - learning_rate: 0.0049 - gradient_norm: 2.4396 - val_det_loss: 1.1631 - val_cls_loss: 0.7979 - val_box_loss: 0.0073 - val_reg_l2_loss: 0.0759 - val_loss: 1.2390\n",
            "Epoch 3/20\n",
            "15/15 [==============================] - ETA: 0s - det_loss: 1.0784 - cls_loss: 0.7366 - box_loss: 0.0068 - reg_l2_loss: 0.0759 - loss: 1.1543 - learning_rate: 0.0048 - gradient_norm: 2.73072023-08-04 14:56:43.330350: W tensorflow/core/framework/dataset.cc:768] Input of GeneratorDatasetOp::Dataset will not be optimized because the dataset does not implement the AsGraphDefInternal() method needed to apply optimizations.\n",
            "15/15 [==============================] - 138s 9s/step - det_loss: 1.0716 - cls_loss: 0.7307 - box_loss: 0.0068 - reg_l2_loss: 0.0759 - loss: 1.1475 - learning_rate: 0.0048 - gradient_norm: 2.7247 - val_det_loss: 1.1841 - val_cls_loss: 0.9339 - val_box_loss: 0.0050 - val_reg_l2_loss: 0.0759 - val_loss: 1.2601\n",
            "Epoch 4/20\n",
            "15/15 [==============================] - ETA: 0s - det_loss: 0.8054 - cls_loss: 0.5561 - box_loss: 0.0050 - reg_l2_loss: 0.0759 - loss: 0.8813 - learning_rate: 0.0046 - gradient_norm: 2.95932023-08-04 14:59:09.909789: W tensorflow/core/framework/dataset.cc:768] Input of GeneratorDatasetOp::Dataset will not be optimized because the dataset does not implement the AsGraphDefInternal() method needed to apply optimizations.\n",
            "15/15 [==============================] - 140s 9s/step - det_loss: 0.7915 - cls_loss: 0.5455 - box_loss: 0.0049 - reg_l2_loss: 0.0759 - loss: 0.8674 - learning_rate: 0.0046 - gradient_norm: 2.9518 - val_det_loss: 0.7258 - val_cls_loss: 0.5443 - val_box_loss: 0.0036 - val_reg_l2_loss: 0.0759 - val_loss: 0.8017\n",
            "Epoch 5/20\n",
            "15/15 [==============================] - ETA: 0s - det_loss: 0.6754 - cls_loss: 0.4621 - box_loss: 0.0043 - reg_l2_loss: 0.0759 - loss: 0.7513 - learning_rate: 0.0043 - gradient_norm: 3.82702023-08-04 15:01:20.988412: W tensorflow/core/framework/dataset.cc:768] Input of GeneratorDatasetOp::Dataset will not be optimized because the dataset does not implement the AsGraphDefInternal() method needed to apply optimizations.\n",
            "15/15 [==============================] - 147s 10s/step - det_loss: 0.6647 - cls_loss: 0.4568 - box_loss: 0.0042 - reg_l2_loss: 0.0759 - loss: 0.7406 - learning_rate: 0.0043 - gradient_norm: 4.2128 - val_det_loss: 0.5654 - val_cls_loss: 0.4303 - val_box_loss: 0.0027 - val_reg_l2_loss: 0.0759 - val_loss: 0.6413\n",
            "Epoch 6/20\n",
            "15/15 [==============================] - ETA: 0s - det_loss: 0.5504 - cls_loss: 0.3863 - box_loss: 0.0033 - reg_l2_loss: 0.0759 - loss: 0.6264 - learning_rate: 0.0040 - gradient_norm: 2.64622023-08-04 15:03:51.473244: W tensorflow/core/framework/dataset.cc:768] Input of GeneratorDatasetOp::Dataset will not be optimized because the dataset does not implement the AsGraphDefInternal() method needed to apply optimizations.\n",
            "15/15 [==============================] - 133s 9s/step - det_loss: 0.5461 - cls_loss: 0.3828 - box_loss: 0.0033 - reg_l2_loss: 0.0759 - loss: 0.6220 - learning_rate: 0.0040 - gradient_norm: 2.6152 - val_det_loss: 0.4827 - val_cls_loss: 0.3619 - val_box_loss: 0.0024 - val_reg_l2_loss: 0.0759 - val_loss: 0.5586\n",
            "Epoch 7/20\n",
            "15/15 [==============================] - ETA: 0s - det_loss: 0.5122 - cls_loss: 0.3637 - box_loss: 0.0030 - reg_l2_loss: 0.0759 - loss: 0.5881 - learning_rate: 0.0037 - gradient_norm: 2.92752023-08-04 15:06:03.094918: W tensorflow/core/framework/dataset.cc:768] Input of GeneratorDatasetOp::Dataset will not be optimized because the dataset does not implement the AsGraphDefInternal() method needed to apply optimizations.\n",
            "15/15 [==============================] - 128s 9s/step - det_loss: 0.5025 - cls_loss: 0.3579 - box_loss: 0.0029 - reg_l2_loss: 0.0759 - loss: 0.5785 - learning_rate: 0.0037 - gradient_norm: 2.8859 - val_det_loss: 0.3951 - val_cls_loss: 0.3056 - val_box_loss: 0.0018 - val_reg_l2_loss: 0.0759 - val_loss: 0.4711\n",
            "Epoch 8/20\n",
            "15/15 [==============================] - ETA: 0s - det_loss: 0.4550 - cls_loss: 0.3182 - box_loss: 0.0027 - reg_l2_loss: 0.0759 - loss: 0.5309 - learning_rate: 0.0033 - gradient_norm: 2.64012023-08-04 15:08:09.899963: W tensorflow/core/framework/dataset.cc:768] Input of GeneratorDatasetOp::Dataset will not be optimized because the dataset does not implement the AsGraphDefInternal() method needed to apply optimizations.\n",
            "15/15 [==============================] - 137s 9s/step - det_loss: 0.4653 - cls_loss: 0.3240 - box_loss: 0.0028 - reg_l2_loss: 0.0759 - loss: 0.5412 - learning_rate: 0.0033 - gradient_norm: 2.5996 - val_det_loss: 0.3326 - val_cls_loss: 0.2566 - val_box_loss: 0.0015 - val_reg_l2_loss: 0.0759 - val_loss: 0.4086\n",
            "Epoch 9/20\n",
            "15/15 [==============================] - ETA: 0s - det_loss: 0.4146 - cls_loss: 0.3005 - box_loss: 0.0023 - reg_l2_loss: 0.0760 - loss: 0.4906 - learning_rate: 0.0029 - gradient_norm: 2.54202023-08-04 15:10:28.148606: W tensorflow/core/framework/dataset.cc:768] Input of GeneratorDatasetOp::Dataset will not be optimized because the dataset does not implement the AsGraphDefInternal() method needed to apply optimizations.\n",
            "15/15 [==============================] - 129s 9s/step - det_loss: 0.4088 - cls_loss: 0.2971 - box_loss: 0.0022 - reg_l2_loss: 0.0760 - loss: 0.4848 - learning_rate: 0.0029 - gradient_norm: 2.4863 - val_det_loss: 0.3268 - val_cls_loss: 0.2494 - val_box_loss: 0.0015 - val_reg_l2_loss: 0.0760 - val_loss: 0.4028\n",
            "Epoch 10/20\n",
            "15/15 [==============================] - ETA: 0s - det_loss: 0.3855 - cls_loss: 0.2808 - box_loss: 0.0021 - reg_l2_loss: 0.0760 - loss: 0.4615 - learning_rate: 0.0025 - gradient_norm: 2.30332023-08-04 15:12:38.015515: W tensorflow/core/framework/dataset.cc:768] Input of GeneratorDatasetOp::Dataset will not be optimized because the dataset does not implement the AsGraphDefInternal() method needed to apply optimizations.\n",
            "15/15 [==============================] - 143s 10s/step - det_loss: 0.3885 - cls_loss: 0.2809 - box_loss: 0.0022 - reg_l2_loss: 0.0760 - loss: 0.4645 - learning_rate: 0.0025 - gradient_norm: 2.2847 - val_det_loss: 0.3020 - val_cls_loss: 0.2369 - val_box_loss: 0.0013 - val_reg_l2_loss: 0.0760 - val_loss: 0.3779\n",
            "Epoch 11/20\n",
            "15/15 [==============================] - ETA: 0s - det_loss: 0.3598 - cls_loss: 0.2634 - box_loss: 0.0019 - reg_l2_loss: 0.0760 - loss: 0.4357 - learning_rate: 0.0021 - gradient_norm: 2.18422023-08-04 15:14:57.394845: W tensorflow/core/framework/dataset.cc:768] Input of GeneratorDatasetOp::Dataset will not be optimized because the dataset does not implement the AsGraphDefInternal() method needed to apply optimizations.\n",
            "15/15 [==============================] - 128s 9s/step - det_loss: 0.3578 - cls_loss: 0.2620 - box_loss: 0.0019 - reg_l2_loss: 0.0760 - loss: 0.4337 - learning_rate: 0.0021 - gradient_norm: 2.1619 - val_det_loss: 0.2661 - val_cls_loss: 0.2168 - val_box_loss: 9.8712e-04 - val_reg_l2_loss: 0.0760 - val_loss: 0.3421\n",
            "Epoch 12/20\n",
            "15/15 [==============================] - ETA: 0s - det_loss: 0.3535 - cls_loss: 0.2576 - box_loss: 0.0019 - reg_l2_loss: 0.0760 - loss: 0.4295 - learning_rate: 0.0017 - gradient_norm: 2.15772023-08-04 15:17:05.893793: W tensorflow/core/framework/dataset.cc:768] Input of GeneratorDatasetOp::Dataset will not be optimized because the dataset does not implement the AsGraphDefInternal() method needed to apply optimizations.\n",
            "15/15 [==============================] - 126s 8s/step - det_loss: 0.3537 - cls_loss: 0.2567 - box_loss: 0.0019 - reg_l2_loss: 0.0760 - loss: 0.4296 - learning_rate: 0.0017 - gradient_norm: 2.1900 - val_det_loss: 0.2500 - val_cls_loss: 0.2024 - val_box_loss: 9.5120e-04 - val_reg_l2_loss: 0.0760 - val_loss: 0.3259\n",
            "Epoch 13/20\n",
            "15/15 [==============================] - ETA: 0s - det_loss: 0.3234 - cls_loss: 0.2467 - box_loss: 0.0015 - reg_l2_loss: 0.0760 - loss: 0.3994 - learning_rate: 0.0013 - gradient_norm: 2.38532023-08-04 15:19:10.913228: W tensorflow/core/framework/dataset.cc:768] Input of GeneratorDatasetOp::Dataset will not be optimized because the dataset does not implement the AsGraphDefInternal() method needed to apply optimizations.\n",
            "15/15 [==============================] - 127s 9s/step - det_loss: 0.3199 - cls_loss: 0.2447 - box_loss: 0.0015 - reg_l2_loss: 0.0760 - loss: 0.3959 - learning_rate: 0.0013 - gradient_norm: 2.3421 - val_det_loss: 0.2432 - val_cls_loss: 0.1945 - val_box_loss: 9.7416e-04 - val_reg_l2_loss: 0.0760 - val_loss: 0.3192\n",
            "Epoch 14/20\n",
            "15/15 [==============================] - ETA: 0s - det_loss: 0.3325 - cls_loss: 0.2529 - box_loss: 0.0016 - reg_l2_loss: 0.0760 - loss: 0.4085 - learning_rate: 9.7709e-04 - gradient_norm: 1.97662023-08-04 15:21:25.529309: W tensorflow/core/framework/dataset.cc:768] Input of GeneratorDatasetOp::Dataset will not be optimized because the dataset does not implement the AsGraphDefInternal() method needed to apply optimizations.\n",
            "15/15 [==============================] - 135s 9s/step - det_loss: 0.3295 - cls_loss: 0.2517 - box_loss: 0.0016 - reg_l2_loss: 0.0760 - loss: 0.4055 - learning_rate: 9.6772e-04 - gradient_norm: 1.9666 - val_det_loss: 0.2396 - val_cls_loss: 0.1952 - val_box_loss: 8.8731e-04 - val_reg_l2_loss: 0.0760 - val_loss: 0.3156\n",
            "Epoch 15/20\n",
            "15/15 [==============================] - ETA: 0s - det_loss: 0.3187 - cls_loss: 0.2442 - box_loss: 0.0015 - reg_l2_loss: 0.0760 - loss: 0.3946 - learning_rate: 6.7212e-04 - gradient_norm: 2.36402023-08-04 15:23:31.978772: W tensorflow/core/framework/dataset.cc:768] Input of GeneratorDatasetOp::Dataset will not be optimized because the dataset does not implement the AsGraphDefInternal() method needed to apply optimizations.\n",
            "15/15 [==============================] - 138s 9s/step - det_loss: 0.3135 - cls_loss: 0.2407 - box_loss: 0.0015 - reg_l2_loss: 0.0760 - loss: 0.3895 - learning_rate: 6.6413e-04 - gradient_norm: 2.3248 - val_det_loss: 0.2384 - val_cls_loss: 0.1991 - val_box_loss: 7.8696e-04 - val_reg_l2_loss: 0.0760 - val_loss: 0.3144\n",
            "Epoch 16/20\n",
            "15/15 [==============================] - ETA: 0s - det_loss: 0.3118 - cls_loss: 0.2361 - box_loss: 0.0015 - reg_l2_loss: 0.0760 - loss: 0.3877 - learning_rate: 4.1702e-04 - gradient_norm: 2.17062023-08-04 15:25:51.314332: W tensorflow/core/framework/dataset.cc:768] Input of GeneratorDatasetOp::Dataset will not be optimized because the dataset does not implement the AsGraphDefInternal() method needed to apply optimizations.\n",
            "15/15 [==============================] - 126s 8s/step - det_loss: 0.3106 - cls_loss: 0.2350 - box_loss: 0.0015 - reg_l2_loss: 0.0760 - loss: 0.3865 - learning_rate: 4.1061e-04 - gradient_norm: 2.1431 - val_det_loss: 0.2314 - val_cls_loss: 0.1916 - val_box_loss: 7.9587e-04 - val_reg_l2_loss: 0.0760 - val_loss: 0.3073\n",
            "Epoch 17/20\n",
            "15/15 [==============================] - ETA: 0s - det_loss: 0.3253 - cls_loss: 0.2436 - box_loss: 0.0016 - reg_l2_loss: 0.0760 - loss: 0.4013 - learning_rate: 2.1873e-04 - gradient_norm: 2.34082023-08-04 15:28:01.432434: W tensorflow/core/framework/dataset.cc:768] Input of GeneratorDatasetOp::Dataset will not be optimized because the dataset does not implement the AsGraphDefInternal() method needed to apply optimizations.\n",
            "15/15 [==============================] - 131s 9s/step - det_loss: 0.3264 - cls_loss: 0.2427 - box_loss: 0.0017 - reg_l2_loss: 0.0760 - loss: 0.4023 - learning_rate: 2.1409e-04 - gradient_norm: 2.2694 - val_det_loss: 0.2233 - val_cls_loss: 0.1871 - val_box_loss: 7.2500e-04 - val_reg_l2_loss: 0.0760 - val_loss: 0.2993\n",
            "Epoch 18/20\n",
            "15/15 [==============================] - ETA: 0s - det_loss: 0.3102 - cls_loss: 0.2365 - box_loss: 0.0015 - reg_l2_loss: 0.0760 - loss: 0.3862 - learning_rate: 8.2662e-05 - gradient_norm: 2.31092023-08-04 15:30:09.188265: W tensorflow/core/framework/dataset.cc:768] Input of GeneratorDatasetOp::Dataset will not be optimized because the dataset does not implement the AsGraphDefInternal() method needed to apply optimizations.\n",
            "15/15 [==============================] - 127s 9s/step - det_loss: 0.3089 - cls_loss: 0.2357 - box_loss: 0.0015 - reg_l2_loss: 0.0760 - loss: 0.3848 - learning_rate: 7.9920e-05 - gradient_norm: 2.2589 - val_det_loss: 0.2199 - val_cls_loss: 0.1870 - val_box_loss: 6.5710e-04 - val_reg_l2_loss: 0.0760 - val_loss: 0.2958\n",
            "Epoch 19/20\n",
            "15/15 [==============================] - ETA: 0s - det_loss: 0.3111 - cls_loss: 0.2323 - box_loss: 0.0016 - reg_l2_loss: 0.0760 - loss: 0.3870 - learning_rate: 1.2538e-05 - gradient_norm: 1.96532023-08-04 15:32:17.415592: W tensorflow/core/framework/dataset.cc:768] Input of GeneratorDatasetOp::Dataset will not be optimized because the dataset does not implement the AsGraphDefInternal() method needed to apply optimizations.\n",
            "15/15 [==============================] - 130s 9s/step - det_loss: 0.3118 - cls_loss: 0.2334 - box_loss: 0.0016 - reg_l2_loss: 0.0760 - loss: 0.3877 - learning_rate: 1.1764e-05 - gradient_norm: 2.0971 - val_det_loss: 0.2196 - val_cls_loss: 0.1879 - val_box_loss: 6.3548e-04 - val_reg_l2_loss: 0.0760 - val_loss: 0.2956\n",
            "Epoch 20/20\n",
            "15/15 [==============================] - ETA: 0s - det_loss: 0.3115 - cls_loss: 0.2332 - box_loss: 0.0016 - reg_l2_loss: 0.0760 - loss: 0.3875 - learning_rate: 1.0265e-05 - gradient_norm: 2.09032023-08-04 15:34:29.857402: W tensorflow/core/framework/dataset.cc:768] Input of GeneratorDatasetOp::Dataset will not be optimized because the dataset does not implement the AsGraphDefInternal() method needed to apply optimizations.\n",
            "15/15 [==============================] - 141s 10s/step - det_loss: 0.3081 - cls_loss: 0.2310 - box_loss: 0.0015 - reg_l2_loss: 0.0760 - loss: 0.3840 - learning_rate: 1.1480e-05 - gradient_norm: 2.1519 - val_det_loss: 0.2200 - val_cls_loss: 0.1887 - val_box_loss: 6.2596e-04 - val_reg_l2_loss: 0.0760 - val_loss: 0.2959\n",
            "2023-08-04 15:35:35.914009: W tensorflow/core/framework/dataset.cc:768] Input of GeneratorDatasetOp::Dataset will not be optimized because the dataset does not implement the AsGraphDefInternal() method needed to apply optimizations.\n",
            "1/1 [==============================] - 17s 17s/step\n",
            "\n",
            "COCO metrics:\n",
            "AP: 0.8640140891075134\n",
            "AP50: 1.0\n",
            "AP75: 1.0\n",
            "APs: -1.0\n",
            "APm: -1.0\n",
            "APl: 0.8640140891075134\n",
            "ARmax1: 0.862500011920929\n",
            "ARmax10: 0.8743055462837219\n",
            "ARmax100: 0.8743055462837219\n",
            "ARs: -1.0\n",
            "ARm: -1.0\n",
            "ARl: 0.8743055462837219\n",
            "AP_/android: 0.827788770198822\n",
            "AP_/pig_android: 0.9002394080162048\n",
            "\n",
            "2023-08-04 15:35:59.515352: W tensorflow/python/util/util.cc:368] Sets are not currently considered sequences, but this may change in the future, so consider avoiding using them.\n",
            "2023-08-04 15:36:52.785032: W tensorflow/core/common_runtime/graph_constructor.cc:803] Node 'resample_p7/PartitionedCall' has 1 outputs but the _output_shapes attribute specifies shapes for 3 outputs. Output shapes may be inaccurate.\n",
            "2023-08-04 15:37:08.975602: W tensorflow/compiler/mlir/lite/python/tf_tfl_flatbuffer_helpers.cc:357] Ignored output_format.\n",
            "2023-08-04 15:37:08.975669: W tensorflow/compiler/mlir/lite/python/tf_tfl_flatbuffer_helpers.cc:360] Ignored drop_control_dependency.\n",
            "2023-08-04 15:37:08.980245: I tensorflow/cc/saved_model/reader.cc:43] Reading SavedModel from: /tmp/tmp328685es\n",
            "2023-08-04 15:37:09.245319: I tensorflow/cc/saved_model/reader.cc:78] Reading meta graph with tags { serve }\n",
            "2023-08-04 15:37:09.245392: I tensorflow/cc/saved_model/reader.cc:119] Reading SavedModel debug info (if present) from: /tmp/tmp328685es\n",
            "2023-08-04 15:37:10.142598: I tensorflow/cc/saved_model/loader.cc:228] Restoring SavedModel bundle.\n",
            "2023-08-04 15:37:15.309951: I tensorflow/cc/saved_model/loader.cc:212] Running initialization op on SavedModel bundle at path: /tmp/tmp328685es\n",
            "2023-08-04 15:37:17.910896: I tensorflow/cc/saved_model/loader.cc:301] SavedModel load for tags { serve }; Status: success: OK. Took 8930664 microseconds.\n",
            "2023-08-04 15:37:21.987064: I tensorflow/compiler/mlir/tensorflow/utils/dump_mlir_util.cc:237] disabling MLIR crash reproducer, set env var `MLIR_CRASH_REPRODUCER_DIRECTORY` to enable.\n",
            "2023-08-04 15:37:26.732390: I tensorflow/compiler/mlir/lite/flatbuffer_export.cc:1963] Estimated count of arithmetic ops: 6.066 G  ops, equivalently 3.033 G  MACs\n",
            "\n",
            "Estimated count of arithmetic ops: 6.066 G  ops, equivalently 3.033 G  MACs\n",
            "fully_quantize: 0, inference_type: 6, input_inference_type: 3, output_inference_type: 0\n",
            "2023-08-04 15:38:38.348732: I tensorflow/compiler/mlir/lite/flatbuffer_export.cc:1963] Estimated count of arithmetic ops: 6.066 G  ops, equivalently 3.033 G  MACs\n",
            "\n",
            "Estimated count of arithmetic ops: 6.066 G  ops, equivalently 3.033 G  MACs\n",
            "INFO: Created TensorFlow Lite XNNPACK delegate for CPU.\n",
            "10/10 [==============================] - 133s 13s/step\n",
            "\n",
            "COCO metrics tflite\n",
            "AP: 0.8416627645492554\n",
            "AP50: 1.0\n",
            "AP75: 1.0\n",
            "APs: -1.0\n",
            "APm: -1.0\n",
            "APl: 0.8416627645492554\n",
            "ARmax1: 0.8569444417953491\n",
            "ARmax10: 0.8569444417953491\n",
            "ARmax100: 0.8569444417953491\n",
            "ARs: -1.0\n",
            "ARm: -1.0\n",
            "ARl: 0.8569444417953491\n",
            "AP_/android: 0.8174917697906494\n",
            "AP_/pig_android: 0.8658336997032166\n"
          ]
        },
        {
          "output_type": "execute_result",
          "data": {
            "text/plain": []
          },
          "metadata": {},
          "execution_count": 18
        }
      ]
    }
  ]
}