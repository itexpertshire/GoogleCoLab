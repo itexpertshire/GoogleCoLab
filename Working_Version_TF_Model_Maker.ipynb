{
  "nbformat": 4,
  "nbformat_minor": 0,
  "metadata": {
    "colab": {
      "provenance": [],
      "gpuType": "T4",
      "include_colab_link": true
    },
    "kernelspec": {
      "name": "python3",
      "display_name": "Python 3"
    },
    "language_info": {
      "name": "python"
    },
    "accelerator": "GPU"
  },
  "cells": [
    {
      "cell_type": "markdown",
      "metadata": {
        "id": "view-in-github",
        "colab_type": "text"
      },
      "source": [
        "<a href=\"https://colab.research.google.com/github/itexpertshire/GoogleCoLab/blob/main/Working_Version_TF_Model_Maker.ipynb\" target=\"_parent\"><img src=\"https://colab.research.google.com/assets/colab-badge.svg\" alt=\"Open In Colab\"/></a>"
      ]
    },
    {
      "cell_type": "code",
      "execution_count": 8,
      "metadata": {
        "id": "ubhAiATjXk7a",
        "colab": {
          "base_uri": "https://localhost:8080/"
        },
        "outputId": "6ebf1406-1876-4de5-b52d-00801aa0569f"
      },
      "outputs": [
        {
          "output_type": "stream",
          "name": "stdout",
          "text": [
            "env: PYTHONPATH=# /env/python\n",
            "env: NUMBER_OF_IMAGES=100\n",
            "env: CLASSES_LIST=Dog,Cat\n"
          ]
        }
      ],
      "source": [
        "%env PYTHONPATH = # /env/python\n",
        "%env NUMBER_OF_IMAGES=100\n",
        "%env CLASSES_LIST=Dog,Cat"
      ]
    },
    {
      "cell_type": "code",
      "source": [
        "# Download and install and update miniconda\n",
        "!wget https://repo.anaconda.com/miniconda/Miniconda3-py39_23.3.1-0-Linux-x86_64.sh\n",
        "!chmod +x Miniconda3-py39_23.3.1-0-Linux-x86_64.sh\n",
        "!./Miniconda3-py39_23.3.1-0-Linux-x86_64.sh -b -f -p /usr/local\n",
        "!conda update -q conda"
      ],
      "metadata": {
        "id": "iwymZeUxYnEt"
      },
      "execution_count": null,
      "outputs": []
    },
    {
      "cell_type": "code",
      "source": [
        "import sys\n",
        "sys.path.append('/usr/local/lib/python3.9/site-packages')\n"
      ],
      "metadata": {
        "id": "EWedsUfmYq1s"
      },
      "execution_count": 3,
      "outputs": []
    },
    {
      "cell_type": "code",
      "source": [
        "# Create conda environment with python 3.9\n",
        "!conda create -n myenv python=3.9"
      ],
      "metadata": {
        "id": "4R1a1OxjYtJp",
        "outputId": "51c054c3-20ea-4ce5-9910-129f83269950",
        "colab": {
          "base_uri": "https://localhost:8080/"
        }
      },
      "execution_count": 4,
      "outputs": [
        {
          "output_type": "stream",
          "name": "stdout",
          "text": [
            "Collecting package metadata (current_repodata.json): - \b\b\\ \b\b| \b\b/ \b\b- \b\b\\ \b\b| \b\b/ \b\b- \b\b\\ \b\b| \b\b/ \b\b- \b\b\\ \b\b| \b\b/ \b\b- \b\b\\ \b\b| \b\b/ \b\b- \b\b\\ \b\b| \b\b/ \b\b- \b\b\\ \b\bdone\n",
            "Solving environment: / \b\bdone\n",
            "\n",
            "## Package Plan ##\n",
            "\n",
            "  environment location: /usr/local/envs/myenv\n",
            "\n",
            "  added / updated specs:\n",
            "    - python=3.9\n",
            "\n",
            "\n",
            "The following packages will be downloaded:\n",
            "\n",
            "    package                    |            build\n",
            "    ---------------------------|-----------------\n",
            "    pip-23.2.1                 |   py39h06a4308_0         2.6 MB\n",
            "    setuptools-68.0.0          |   py39h06a4308_0         928 KB\n",
            "    ------------------------------------------------------------\n",
            "                                           Total:         3.5 MB\n",
            "\n",
            "The following NEW packages will be INSTALLED:\n",
            "\n",
            "  _libgcc_mutex      pkgs/main/linux-64::_libgcc_mutex-0.1-main \n",
            "  _openmp_mutex      pkgs/main/linux-64::_openmp_mutex-5.1-1_gnu \n",
            "  ca-certificates    pkgs/main/linux-64::ca-certificates-2023.05.30-h06a4308_0 \n",
            "  ld_impl_linux-64   pkgs/main/linux-64::ld_impl_linux-64-2.38-h1181459_1 \n",
            "  libffi             pkgs/main/linux-64::libffi-3.4.4-h6a678d5_0 \n",
            "  libgcc-ng          pkgs/main/linux-64::libgcc-ng-11.2.0-h1234567_1 \n",
            "  libgomp            pkgs/main/linux-64::libgomp-11.2.0-h1234567_1 \n",
            "  libstdcxx-ng       pkgs/main/linux-64::libstdcxx-ng-11.2.0-h1234567_1 \n",
            "  ncurses            pkgs/main/linux-64::ncurses-6.4-h6a678d5_0 \n",
            "  openssl            pkgs/main/linux-64::openssl-3.0.10-h7f8727e_0 \n",
            "  pip                pkgs/main/linux-64::pip-23.2.1-py39h06a4308_0 \n",
            "  python             pkgs/main/linux-64::python-3.9.17-h955ad1f_0 \n",
            "  readline           pkgs/main/linux-64::readline-8.2-h5eee18b_0 \n",
            "  setuptools         pkgs/main/linux-64::setuptools-68.0.0-py39h06a4308_0 \n",
            "  sqlite             pkgs/main/linux-64::sqlite-3.41.2-h5eee18b_0 \n",
            "  tk                 pkgs/main/linux-64::tk-8.6.12-h1ccaba5_0 \n",
            "  tzdata             pkgs/main/noarch::tzdata-2023c-h04d1e81_0 \n",
            "  wheel              pkgs/main/linux-64::wheel-0.38.4-py39h06a4308_0 \n",
            "  xz                 pkgs/main/linux-64::xz-5.4.2-h5eee18b_0 \n",
            "  zlib               pkgs/main/linux-64::zlib-1.2.13-h5eee18b_0 \n",
            "\n",
            "\n",
            "Proceed ([y]/n)? y\n",
            "\n",
            "\n",
            "Downloading and Extracting Packages\n",
            "setuptools-68.0.0    | 928 KB    | :   0% 0/1 [00:00<?, ?it/s]\n",
            "setuptools-68.0.0    | 928 KB    | :   2% 0.017250274273464858/1 [00:00<00:10, 10.39s/it]\n",
            "setuptools-68.0.0    | 928 KB    | : 100% 1.0/1 [00:00<00:00,  1.48it/s]\n",
            "pip-23.2.1           | 2.6 MB    | : 100% 1.0/1 [00:01<00:00,  1.05it/s]                  \u001b[A\n",
            "                                                                        \n",
            "                                                                        \u001b[A\n",
            "Preparing transaction: \\ \b\b| \b\b/ \b\b- \b\b\\ \b\bdone\n",
            "Verifying transaction: / \b\b- \b\b\\ \b\b| \b\b/ \b\b- \b\b\\ \b\b| \b\b/ \b\b- \b\b\\ \b\b| \b\b/ \b\b- \b\b\\ \b\bdone\n",
            "Executing transaction: / \b\b- \b\b\\ \b\b| \b\b/ \b\b- \b\b\\ \b\b| \b\bdone\n",
            "#\n",
            "# To activate this environment, use\n",
            "#\n",
            "#     $ conda activate myenv\n",
            "#\n",
            "# To deactivate an active environment, use\n",
            "#\n",
            "#     $ conda deactivate\n",
            "\n"
          ]
        }
      ]
    },
    {
      "cell_type": "code",
      "source": [
        "%%bash\n",
        "# Clone Dataset Preparation Package\n",
        "git clone https://github.com/itexpertshire/Open-Image-Dataset-Conversion.git\n",
        "mv Open-Image-Dataset-Conversion/ oid"
      ],
      "metadata": {
        "id": "uyFD8uFYbuhU",
        "outputId": "04c5d609-df19-4855-80dd-1349f4596afa",
        "colab": {
          "base_uri": "https://localhost:8080/"
        }
      },
      "execution_count": 5,
      "outputs": [
        {
          "output_type": "stream",
          "name": "stderr",
          "text": [
            "Cloning into 'Open-Image-Dataset-Conversion'...\n"
          ]
        }
      ]
    },
    {
      "cell_type": "markdown",
      "source": [
        "Install Download Kit\n"
      ],
      "metadata": {
        "id": "s62sJvUZaD2T"
      }
    },
    {
      "cell_type": "code",
      "source": [
        "%%bash\n",
        "cd /content/oid/\n",
        "pip3 install -r OIDv4_ToolKit/requirements.txt\n",
        "pip3 install -r OIDv4_annotation_tool/requirements.txt"
      ],
      "metadata": {
        "id": "E11-irT8aLyT"
      },
      "execution_count": null,
      "outputs": []
    },
    {
      "cell_type": "markdown",
      "source": [
        "Add list of classes into classes.txt to download images\n"
      ],
      "metadata": {
        "id": "Vvz1hGNuan0e"
      }
    },
    {
      "cell_type": "code",
      "source": [
        "%%bash\n",
        "echo \"$CLASSES_LIST\" | tr ',' '\\n' > oid/OIDv4_ToolKit/classes.txt"
      ],
      "metadata": {
        "id": "h71R6ieRauZC"
      },
      "execution_count": 9,
      "outputs": []
    },
    {
      "cell_type": "code",
      "source": [
        "%%bash\n",
        "cd /content/oid/\n",
        "python OIDv4_ToolKit/main.py downloader --classes OIDv4_ToolKit/classes.txt --type_csv train --limit NUMBER_OF_IMAGES"
      ],
      "metadata": {
        "id": "U18nncdrahjy"
      },
      "execution_count": null,
      "outputs": []
    },
    {
      "cell_type": "code",
      "source": [
        "# Install dependencies in the new environment. You need to force acitvate conda everytime\n",
        "%%shell\n",
        "eval \"$(conda shell.bash hook)\"\n",
        "conda activate myenv\n",
        "#pip install -q tflite-model-maker\n",
        "pip3 install -q pycocotools\n",
        "pip install -q ipykernel\n",
        "pip install -q numpy==1.23.4\n",
        "pip install -q seaborn\n",
        "pip install tflite-model-maker\n",
        "pip freeze"
      ],
      "metadata": {
        "id": "XjIuOnAYYyCm"
      },
      "execution_count": null,
      "outputs": []
    },
    {
      "cell_type": "code",
      "source": [
        "!git clone https://github.com/tensorflow/examples"
      ],
      "metadata": {
        "id": "KF-4S4TYLTkt"
      },
      "execution_count": null,
      "outputs": []
    },
    {
      "cell_type": "code",
      "source": [
        "# Run your training and eval script as an external python script\n",
        "%%shell\n",
        "eval \"$(conda shell.bash hook)\"\n",
        "conda activate myenv\n",
        "python /content/Train.py"
      ],
      "metadata": {
        "id": "_kgUrn27byMe"
      },
      "execution_count": null,
      "outputs": []
    }
  ]
}