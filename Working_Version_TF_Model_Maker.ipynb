{
  "nbformat": 4,
  "nbformat_minor": 0,
  "metadata": {
    "colab": {
      "provenance": [],
      "gpuType": "T4",
      "include_colab_link": true
    },
    "kernelspec": {
      "name": "python3",
      "display_name": "Python 3"
    },
    "language_info": {
      "name": "python"
    },
    "accelerator": "GPU"
  },
  "cells": [
    {
      "cell_type": "markdown",
      "metadata": {
        "id": "view-in-github",
        "colab_type": "text"
      },
      "source": [
        "<a href=\"https://colab.research.google.com/github/itexpertshire/GoogleCoLab/blob/main/Working_Version_TF_Model_Maker.ipynb\" target=\"_parent\"><img src=\"https://colab.research.google.com/assets/colab-badge.svg\" alt=\"Open In Colab\"/></a>"
      ]
    },
    {
      "cell_type": "code",
      "execution_count": 7,
      "metadata": {
        "id": "ubhAiATjXk7a",
        "colab": {
          "base_uri": "https://localhost:8080/"
        },
        "outputId": "5a6d0a01-a7cf-41b5-898d-c073aa8c8ed3"
      },
      "outputs": [
        {
          "output_type": "stream",
          "name": "stdout",
          "text": [
            "env: PYTHONPATH=# /env/python\n",
            "env: NUMBER_OF_IMAGES=10\n",
            "env: CLASSES_LIST=Dog,Cat\n"
          ]
        }
      ],
      "source": [
        "%env PYTHONPATH = # /env/python\n",
        "%env NUMBER_OF_IMAGES=10\n",
        "%env CLASSES_LIST=Dog,Cat"
      ]
    },
    {
      "cell_type": "code",
      "source": [
        "# Download and install and update miniconda\n",
        "!wget https://repo.anaconda.com/miniconda/Miniconda3-py39_23.3.1-0-Linux-x86_64.sh\n",
        "!chmod +x Miniconda3-py39_23.3.1-0-Linux-x86_64.sh\n",
        "!./Miniconda3-py39_23.3.1-0-Linux-x86_64.sh -b -f -p /usr/local\n",
        "!conda update -q conda"
      ],
      "metadata": {
        "id": "iwymZeUxYnEt",
        "colab": {
          "base_uri": "https://localhost:8080/"
        },
        "outputId": "7affeef4-a051-43b4-cd1f-f561f1deca45"
      },
      "execution_count": 2,
      "outputs": [
        {
          "output_type": "stream",
          "name": "stdout",
          "text": [
            "--2023-08-07 15:10:59--  https://repo.anaconda.com/miniconda/Miniconda3-py39_23.3.1-0-Linux-x86_64.sh\n",
            "Resolving repo.anaconda.com (repo.anaconda.com)... 104.16.130.3, 104.16.131.3, 2606:4700::6810:8203, ...\n",
            "Connecting to repo.anaconda.com (repo.anaconda.com)|104.16.130.3|:443... connected.\n",
            "HTTP request sent, awaiting response... 200 OK\n",
            "Length: 70605094 (67M) [application/x-sh]\n",
            "Saving to: ‘Miniconda3-py39_23.3.1-0-Linux-x86_64.sh’\n",
            "\n",
            "Miniconda3-py39_23. 100%[===================>]  67.33M   268MB/s    in 0.3s    \n",
            "\n",
            "2023-08-07 15:10:59 (268 MB/s) - ‘Miniconda3-py39_23.3.1-0-Linux-x86_64.sh’ saved [70605094/70605094]\n",
            "\n",
            "PREFIX=/usr/local\n",
            "Unpacking payload ...\n",
            "                                                                                             \n",
            "Installing base environment...\n",
            "\n",
            "\n",
            "Downloading and Extracting Packages\n",
            "\n",
            "\n",
            "Downloading and Extracting Packages\n",
            "\n",
            "Preparing transaction: - \b\b\\ \b\b| \b\b/ \b\bdone\n",
            "Executing transaction: \\ \b\b| \b\b/ \b\b- \b\b\\ \b\b| \b\b/ \b\b- \b\b\\ \b\b| \b\b/ \b\b- \b\b\\ \b\b| \b\b/ \b\b- \b\b\\ \b\b| \b\b/ \b\b- \b\b\\ \b\b| \b\b/ \b\bdone\n",
            "installation finished.\n",
            "WARNING:\n",
            "    You currently have a PYTHONPATH environment variable set. This may cause\n",
            "    unexpected behavior when running the Python interpreter in Miniconda3.\n",
            "    For best results, please verify that your PYTHONPATH only points to\n",
            "    directories of packages that are compatible with the Python interpreter\n",
            "    in Miniconda3: /usr/local\n",
            "Collecting package metadata (current_repodata.json): ...working... done\n",
            "Solving environment: ...working... done\n",
            "\n",
            "## Package Plan ##\n",
            "\n",
            "  environment location: /usr/local\n",
            "\n",
            "  added / updated specs:\n",
            "    - conda\n",
            "\n",
            "\n",
            "The following packages will be downloaded:\n",
            "\n",
            "    package                    |            build\n",
            "    ---------------------------|-----------------\n",
            "    ca-certificates-2023.05.30 |       h06a4308_0         120 KB\n",
            "    certifi-2023.7.22          |   py39h06a4308_0         153 KB\n",
            "    conda-23.7.2               |   py39h06a4308_0         1.0 MB\n",
            "    conda-package-handling-2.2.0|   py39h06a4308_0         267 KB\n",
            "    conda-package-streaming-0.9.0|   py39h06a4308_0          27 KB\n",
            "    cryptography-39.0.1        |   py39h9ce1e76_2         1.4 MB\n",
            "    libffi-3.4.4               |       h6a678d5_0         142 KB\n",
            "    openssl-3.0.10             |       h7f8727e_0         5.2 MB\n",
            "    pyopenssl-23.2.0           |   py39h06a4308_0          96 KB\n",
            "    python-3.9.17              |       h955ad1f_0        25.0 MB\n",
            "    requests-2.31.0            |   py39h06a4308_0          96 KB\n",
            "    sqlite-3.41.2              |       h5eee18b_0         1.2 MB\n",
            "    urllib3-1.26.16            |   py39h06a4308_0         201 KB\n",
            "    xz-5.4.2                   |       h5eee18b_0         642 KB\n",
            "    ------------------------------------------------------------\n",
            "                                           Total:        35.5 MB\n",
            "\n",
            "The following packages will be UPDATED:\n",
            "\n",
            "  ca-certificates                     2023.01.10-h06a4308_0 --> 2023.05.30-h06a4308_0 \n",
            "  certifi                          2022.12.7-py39h06a4308_0 --> 2023.7.22-py39h06a4308_0 \n",
            "  conda                               23.3.1-py39h06a4308_0 --> 23.7.2-py39h06a4308_0 \n",
            "  conda-package-han~                   2.0.2-py39h06a4308_0 --> 2.2.0-py39h06a4308_0 \n",
            "  conda-package-str~                   0.7.0-py39h06a4308_0 --> 0.9.0-py39h06a4308_0 \n",
            "  cryptography                        39.0.1-py39h9ce1e76_0 --> 39.0.1-py39h9ce1e76_2 \n",
            "  libffi                                   3.4.2-h6a678d5_6 --> 3.4.4-h6a678d5_0 \n",
            "  openssl                                 1.1.1t-h7f8727e_0 --> 3.0.10-h7f8727e_0 \n",
            "  pyopenssl                           23.0.0-py39h06a4308_0 --> 23.2.0-py39h06a4308_0 \n",
            "  python                                  3.9.16-h7a1cb2a_2 --> 3.9.17-h955ad1f_0 \n",
            "  requests                            2.28.1-py39h06a4308_1 --> 2.31.0-py39h06a4308_0 \n",
            "  sqlite                                  3.41.1-h5eee18b_0 --> 3.41.2-h5eee18b_0 \n",
            "  urllib3                            1.26.15-py39h06a4308_0 --> 1.26.16-py39h06a4308_0 \n",
            "  xz                                      5.2.10-h5eee18b_1 --> 5.4.2-h5eee18b_0 \n",
            "\n",
            "\n",
            "Proceed ([y]/n)? y\n",
            "\n",
            "Preparing transaction: ...working... done\n",
            "Verifying transaction: ...working... done\n",
            "Executing transaction: ...working... done\n"
          ]
        }
      ]
    },
    {
      "cell_type": "code",
      "source": [
        "import sys\n",
        "sys.path.append('/usr/local/lib/python3.9/site-packages')\n"
      ],
      "metadata": {
        "id": "EWedsUfmYq1s"
      },
      "execution_count": 3,
      "outputs": []
    },
    {
      "cell_type": "code",
      "source": [
        "# Create conda environment with python 3.9\n",
        "!conda create -n myenv python=3.9"
      ],
      "metadata": {
        "id": "4R1a1OxjYtJp",
        "colab": {
          "base_uri": "https://localhost:8080/"
        },
        "outputId": "c7179719-c2b3-4fd3-9e80-dfeba966ba3e"
      },
      "execution_count": 4,
      "outputs": [
        {
          "output_type": "stream",
          "name": "stdout",
          "text": [
            "Collecting package metadata (current_repodata.json): - \b\b\\ \b\b| \b\b/ \b\b- \b\b\\ \b\b| \b\b/ \b\b- \b\b\\ \b\b| \b\b/ \b\b- \b\b\\ \b\b| \b\b/ \b\b- \b\b\\ \b\b| \b\b/ \b\b- \b\b\\ \b\b| \b\b/ \b\b- \b\b\\ \b\bdone\n",
            "Solving environment: / \b\bdone\n",
            "\n",
            "## Package Plan ##\n",
            "\n",
            "  environment location: /usr/local/envs/myenv\n",
            "\n",
            "  added / updated specs:\n",
            "    - python=3.9\n",
            "\n",
            "\n",
            "The following packages will be downloaded:\n",
            "\n",
            "    package                    |            build\n",
            "    ---------------------------|-----------------\n",
            "    pip-23.2.1                 |   py39h06a4308_0         2.6 MB\n",
            "    setuptools-68.0.0          |   py39h06a4308_0         928 KB\n",
            "    ------------------------------------------------------------\n",
            "                                           Total:         3.5 MB\n",
            "\n",
            "The following NEW packages will be INSTALLED:\n",
            "\n",
            "  _libgcc_mutex      pkgs/main/linux-64::_libgcc_mutex-0.1-main \n",
            "  _openmp_mutex      pkgs/main/linux-64::_openmp_mutex-5.1-1_gnu \n",
            "  ca-certificates    pkgs/main/linux-64::ca-certificates-2023.05.30-h06a4308_0 \n",
            "  ld_impl_linux-64   pkgs/main/linux-64::ld_impl_linux-64-2.38-h1181459_1 \n",
            "  libffi             pkgs/main/linux-64::libffi-3.4.4-h6a678d5_0 \n",
            "  libgcc-ng          pkgs/main/linux-64::libgcc-ng-11.2.0-h1234567_1 \n",
            "  libgomp            pkgs/main/linux-64::libgomp-11.2.0-h1234567_1 \n",
            "  libstdcxx-ng       pkgs/main/linux-64::libstdcxx-ng-11.2.0-h1234567_1 \n",
            "  ncurses            pkgs/main/linux-64::ncurses-6.4-h6a678d5_0 \n",
            "  openssl            pkgs/main/linux-64::openssl-3.0.10-h7f8727e_0 \n",
            "  pip                pkgs/main/linux-64::pip-23.2.1-py39h06a4308_0 \n",
            "  python             pkgs/main/linux-64::python-3.9.17-h955ad1f_0 \n",
            "  readline           pkgs/main/linux-64::readline-8.2-h5eee18b_0 \n",
            "  setuptools         pkgs/main/linux-64::setuptools-68.0.0-py39h06a4308_0 \n",
            "  sqlite             pkgs/main/linux-64::sqlite-3.41.2-h5eee18b_0 \n",
            "  tk                 pkgs/main/linux-64::tk-8.6.12-h1ccaba5_0 \n",
            "  tzdata             pkgs/main/noarch::tzdata-2023c-h04d1e81_0 \n",
            "  wheel              pkgs/main/linux-64::wheel-0.38.4-py39h06a4308_0 \n",
            "  xz                 pkgs/main/linux-64::xz-5.4.2-h5eee18b_0 \n",
            "  zlib               pkgs/main/linux-64::zlib-1.2.13-h5eee18b_0 \n",
            "\n",
            "\n",
            "Proceed ([y]/n)? y\n",
            "\n",
            "\n",
            "Downloading and Extracting Packages\n",
            "pip-23.2.1           | 2.6 MB    | :   0% 0/1 [00:00<?, ?it/s]\n",
            "setuptools-68.0.0    | 928 KB    | :   0% 0/1 [00:00<?, ?it/s]\u001b[A\n",
            "pip-23.2.1           | 2.6 MB    | :   1% 0.0060527316165455616/1 [00:00<00:16, 16.72s/it]\n",
            "setuptools-68.0.0    | 928 KB    | : 100% 1.0/1 [00:00<00:00,  1.93it/s]                \u001b[A\n",
            "                                                                        \n",
            "                                                                        \u001b[A\n",
            "Preparing transaction: \\ \b\b| \b\b/ \b\bdone\n",
            "Verifying transaction: \\ \b\b| \b\b/ \b\b- \b\b\\ \b\b| \b\b/ \b\b- \b\b\\ \b\b| \b\b/ \b\b- \b\b\\ \b\bdone\n",
            "Executing transaction: / \b\b- \b\b\\ \b\b| \b\b/ \b\b- \b\b\\ \b\b| \b\bdone\n",
            "#\n",
            "# To activate this environment, use\n",
            "#\n",
            "#     $ conda activate myenv\n",
            "#\n",
            "# To deactivate an active environment, use\n",
            "#\n",
            "#     $ conda deactivate\n",
            "\n"
          ]
        }
      ]
    },
    {
      "cell_type": "code",
      "source": [
        "%%bash\n",
        "# Clone Dataset Preparation Package\n",
        "git clone https://github.com/itexpertshire/Open-Image-Dataset-Conversion.git\n",
        "mv Open-Image-Dataset-Conversion/ oid"
      ],
      "metadata": {
        "id": "uyFD8uFYbuhU",
        "colab": {
          "base_uri": "https://localhost:8080/"
        },
        "outputId": "3c95dfdb-1733-4d10-fc21-9ee7dc7e1a28"
      },
      "execution_count": 5,
      "outputs": [
        {
          "output_type": "stream",
          "name": "stderr",
          "text": [
            "Cloning into 'Open-Image-Dataset-Conversion'...\n"
          ]
        }
      ]
    },
    {
      "cell_type": "markdown",
      "source": [
        "Install Download Kit\n"
      ],
      "metadata": {
        "id": "s62sJvUZaD2T"
      }
    },
    {
      "cell_type": "code",
      "source": [
        "%%bash\n",
        "cd /content/oid/\n",
        "pip3 install -r OIDv4_ToolKit/requirements.txt\n",
        "pip3 install -r OIDv4_annotation_tool/requirements.txt"
      ],
      "metadata": {
        "colab": {
          "base_uri": "https://localhost:8080/"
        },
        "id": "E11-irT8aLyT",
        "outputId": "93290c00-c9a1-4cd6-9cc3-e54f48a4418f"
      },
      "execution_count": 6,
      "outputs": [
        {
          "output_type": "stream",
          "name": "stdout",
          "text": [
            "Collecting pandas\n",
            "  Downloading pandas-2.0.3-cp39-cp39-manylinux_2_17_x86_64.manylinux2014_x86_64.whl (12.4 MB)\n",
            "     ━━━━━━━━━━━━━━━━━━━━━━━━━━━━━━━━━━━━━━━━ 12.4/12.4 MB 73.9 MB/s eta 0:00:00\n",
            "Collecting numpy\n",
            "  Downloading numpy-1.25.2-cp39-cp39-manylinux_2_17_x86_64.manylinux2014_x86_64.whl (18.3 MB)\n",
            "     ━━━━━━━━━━━━━━━━━━━━━━━━━━━━━━━━━━━━━━━━ 18.3/18.3 MB 39.7 MB/s eta 0:00:00\n",
            "Collecting awscli\n",
            "  Downloading awscli-1.29.20-py3-none-any.whl (4.2 MB)\n",
            "     ━━━━━━━━━━━━━━━━━━━━━━━━━━━━━━━━━━━━━━━━ 4.2/4.2 MB 67.9 MB/s eta 0:00:00\n",
            "Requirement already satisfied: urllib3 in /usr/local/lib/python3.9/site-packages (from -r OIDv4_ToolKit/requirements.txt (line 5)) (1.26.16)\n",
            "Requirement already satisfied: tqdm in /usr/local/lib/python3.9/site-packages (from -r OIDv4_ToolKit/requirements.txt (line 7)) (4.65.0)\n",
            "Collecting opencv-python\n",
            "  Downloading opencv_python-4.8.0.74-cp37-abi3-manylinux_2_17_x86_64.manylinux2014_x86_64.whl (61.7 MB)\n",
            "     ━━━━━━━━━━━━━━━━━━━━━━━━━━━━━━━━━━━━━━━━ 61.7/61.7 MB 9.6 MB/s eta 0:00:00\n",
            "Collecting pytz>=2020.1\n",
            "  Downloading pytz-2023.3-py2.py3-none-any.whl (502 kB)\n",
            "     ━━━━━━━━━━━━━━━━━━━━━━━━━━━━━━━━━━━━━━ 502.3/502.3 kB 43.3 MB/s eta 0:00:00\n",
            "Collecting python-dateutil>=2.8.2\n",
            "  Downloading python_dateutil-2.8.2-py2.py3-none-any.whl (247 kB)\n",
            "     ━━━━━━━━━━━━━━━━━━━━━━━━━━━━━━━━━━━━━━ 247.7/247.7 kB 31.1 MB/s eta 0:00:00\n",
            "Collecting tzdata>=2022.1\n",
            "  Downloading tzdata-2023.3-py2.py3-none-any.whl (341 kB)\n",
            "     ━━━━━━━━━━━━━━━━━━━━━━━━━━━━━━━━━━━━━━ 341.8/341.8 kB 35.5 MB/s eta 0:00:00\n",
            "Collecting rsa<4.8,>=3.1.2\n",
            "  Downloading rsa-4.7.2-py3-none-any.whl (34 kB)\n",
            "Collecting PyYAML<6.1,>=3.10\n",
            "  Downloading PyYAML-6.0.1-cp39-cp39-manylinux_2_17_x86_64.manylinux2014_x86_64.whl (738 kB)\n",
            "     ━━━━━━━━━━━━━━━━━━━━━━━━━━━━━━━━━━━━━━ 738.9/738.9 kB 47.5 MB/s eta 0:00:00\n",
            "Collecting docutils<0.17,>=0.10\n",
            "  Downloading docutils-0.16-py2.py3-none-any.whl (548 kB)\n",
            "     ━━━━━━━━━━━━━━━━━━━━━━━━━━━━━━━━━━━━━━ 548.2/548.2 kB 53.7 MB/s eta 0:00:00\n",
            "Collecting colorama<0.4.5,>=0.2.5\n",
            "  Downloading colorama-0.4.4-py2.py3-none-any.whl (16 kB)\n",
            "Collecting s3transfer<0.7.0,>=0.6.0\n",
            "  Downloading s3transfer-0.6.1-py3-none-any.whl (79 kB)\n",
            "     ━━━━━━━━━━━━━━━━━━━━━━━━━━━━━━━━━━━━━━━━ 79.8/79.8 kB 13.9 MB/s eta 0:00:00\n",
            "Collecting botocore==1.31.20\n",
            "  Downloading botocore-1.31.20-py3-none-any.whl (11.1 MB)\n",
            "     ━━━━━━━━━━━━━━━━━━━━━━━━━━━━━━━━━━━━━━━━ 11.1/11.1 MB 71.0 MB/s eta 0:00:00\n",
            "Collecting jmespath<2.0.0,>=0.7.1\n",
            "  Downloading jmespath-1.0.1-py3-none-any.whl (20 kB)\n",
            "Requirement already satisfied: six>=1.5 in /usr/local/lib/python3.9/site-packages (from python-dateutil>=2.8.2->pandas->-r OIDv4_ToolKit/requirements.txt (line 1)) (1.16.0)\n",
            "Collecting pyasn1>=0.1.3\n",
            "  Downloading pyasn1-0.5.0-py2.py3-none-any.whl (83 kB)\n",
            "     ━━━━━━━━━━━━━━━━━━━━━━━━━━━━━━━━━━━━━━━━ 83.9/83.9 kB 12.7 MB/s eta 0:00:00\n",
            "Installing collected packages: pytz, tzdata, PyYAML, python-dateutil, pyasn1, numpy, jmespath, docutils, colorama, rsa, pandas, opencv-python, botocore, s3transfer, awscli\n",
            "Successfully installed PyYAML-6.0.1 awscli-1.29.20 botocore-1.31.20 colorama-0.4.4 docutils-0.16 jmespath-1.0.1 numpy-1.25.2 opencv-python-4.8.0.74 pandas-2.0.3 pyasn1-0.5.0 python-dateutil-2.8.2 pytz-2023.3 rsa-4.7.2 s3transfer-0.6.1 tzdata-2023.3\n",
            "Requirement already satisfied: opencv-python in /usr/local/lib/python3.9/site-packages (from -r OIDv4_annotation_tool/requirements.txt (line 1)) (4.8.0.74)\n",
            "Collecting pathlib\n",
            "  Downloading pathlib-1.0.1-py3-none-any.whl (14 kB)\n",
            "Collecting argparse\n",
            "  Downloading argparse-1.4.0-py2.py3-none-any.whl (23 kB)\n",
            "Requirement already satisfied: numpy>=1.17.0 in /usr/local/lib/python3.9/site-packages (from opencv-python->-r OIDv4_annotation_tool/requirements.txt (line 1)) (1.25.2)\n",
            "Installing collected packages: pathlib, argparse\n",
            "Successfully installed argparse-1.4.0 pathlib-1.0.1\n"
          ]
        },
        {
          "output_type": "stream",
          "name": "stderr",
          "text": [
            "WARNING: Running pip as the 'root' user can result in broken permissions and conflicting behaviour with the system package manager. It is recommended to use a virtual environment instead: https://pip.pypa.io/warnings/venv\n",
            "WARNING: Running pip as the 'root' user can result in broken permissions and conflicting behaviour with the system package manager. It is recommended to use a virtual environment instead: https://pip.pypa.io/warnings/venv\n"
          ]
        }
      ]
    },
    {
      "cell_type": "markdown",
      "source": [
        "Add list of classes into classes.txt to download images\n"
      ],
      "metadata": {
        "id": "Vvz1hGNuan0e"
      }
    },
    {
      "cell_type": "code",
      "source": [
        "%%bash\n",
        "echo \"$CLASSES_LIST\" | tr ',' '\\n' > oid/OIDv4_ToolKit/classes.txt"
      ],
      "metadata": {
        "id": "h71R6ieRauZC"
      },
      "execution_count": 8,
      "outputs": []
    },
    {
      "cell_type": "code",
      "source": [
        "!python /content/oid/OIDv4_ToolKit/main.py downloader --classes /content/oid/OIDv4_ToolKit/classes.txt --type_csv train --limit $NUMBER_OF_IMAGES\n",
        "!python /content/oid/OIDv4_ToolKit/main.py downloader --classes /content/oid/OIDv4_ToolKit/classes.txt --type_csv validation --limit $NUMBER_OF_IMAGES\n",
        "!python /content/oid/OIDv4_ToolKit/main.py downloader --classes /content/oid/OIDv4_ToolKit/classes.txt --type_csv test --limit $NUMBER_OF_IMAGES"
      ],
      "metadata": {
        "colab": {
          "base_uri": "https://localhost:8080/"
        },
        "id": "U18nncdrahjy",
        "outputId": "4bc02170-7f59-4195-9c4e-3c94c845dc9c"
      },
      "execution_count": 9,
      "outputs": [
        {
          "output_type": "stream",
          "name": "stdout",
          "text": [
            "\u001b[92m\n",
            "\t\t   ___   _____  ______            _    _    \n",
            "\t\t .'   `.|_   _||_   _ `.         | |  | |   \n",
            "\t\t/  .-.  \\ | |    | | `. \\ _   __ | |__| |_  \n",
            "\t\t| |   | | | |    | |  | |[ \\ [  ]|____   _| \n",
            "\t\t\\  `-'  /_| |_  _| |_.' / \\ \\/ /     _| |_  \n",
            "\t\t `.___.'|_____||______.'   \\__/     |_____|\n",
            "\t\u001b[0m\n",
            "\u001b[92m\n",
            "             _____                    _                 _             \n",
            "            (____ \\                  | |               | |            \n",
            "             _   \\ \\ ___  _ _ _ ____ | | ___   ____  _ | | ____  ____ \n",
            "            | |   | / _ \\| | | |  _ \\| |/ _ \\ / _  |/ || |/ _  )/ ___)\n",
            "            | |__/ / |_| | | | | | | | | |_| ( ( | ( (_| ( (/ /| |    \n",
            "            |_____/ \\___/ \\____|_| |_|_|\\___/ \\_||_|\\____|\\____)_|    \n",
            "                                                          \n",
            "        \u001b[0m\n",
            "    [INFO] | Downloading Dog.\u001b[0m\n",
            "\u001b[91m   [ERROR] | Missing the class-descriptions-boxable.csv file.\u001b[0m\n",
            "\u001b[94m[DOWNLOAD] | Do you want to download the missing file? [Y/n] \u001b[0my\n",
            "...145%, 0 MB, 8818 KB/s, 0 seconds passed\n",
            "\u001b[94m[DOWNLOAD] | File class-descriptions-boxable.csv downloaded into OID/csv_folder/class-descriptions-boxable.csv.\u001b[0m\n",
            "\u001b[91m   [ERROR] | Missing the train-annotations-bbox.csv file.\u001b[0m\n",
            "\u001b[94m[DOWNLOAD] | Do you want to download the missing file? [Y/n] \u001b[0my\n",
            "...100%, 1138 MB, 21545 KB/s, 54 seconds passed\n",
            "\u001b[94m[DOWNLOAD] | File train-annotations-bbox.csv downloaded into OID/csv_folder/train-annotations-bbox.csv.\u001b[0m\n",
            "\n",
            "\u001b[95mDog\u001b[0m\n",
            "    [INFO] | Downloading train images.\u001b[0m\n",
            "    [INFO] | [INFO] Found 20607 online images for train.\u001b[0m\n",
            "    [INFO] | Limiting to 10 images.\u001b[0m\n",
            "    [INFO] | Download of 10 images in train.\u001b[0m\n",
            "100% 10/10 [00:09<00:00,  1.10it/s]\n",
            "    [INFO] | Done!\u001b[0m\n",
            "    [INFO] | Creating labels for Dog of train.\u001b[0m\n",
            "    [INFO] | Labels creation completed.\u001b[0m\n",
            "    [INFO] | Downloading Cat.\u001b[0m\n",
            "\n",
            "\u001b[95mCat\u001b[0m\n",
            "    [INFO] | Downloading train images.\u001b[0m\n",
            "    [INFO] | [INFO] Found 12516 online images for train.\u001b[0m\n",
            "    [INFO] | Limiting to 10 images.\u001b[0m\n",
            "    [INFO] | Download of 10 images in train.\u001b[0m\n",
            "100% 10/10 [00:08<00:00,  1.13it/s]\n",
            "    [INFO] | Done!\u001b[0m\n",
            "    [INFO] | Creating labels for Cat of train.\u001b[0m\n",
            "    [INFO] | Labels creation completed.\u001b[0m\n",
            "\u001b[92m\n",
            "\t\t   ___   _____  ______            _    _    \n",
            "\t\t .'   `.|_   _||_   _ `.         | |  | |   \n",
            "\t\t/  .-.  \\ | |    | | `. \\ _   __ | |__| |_  \n",
            "\t\t| |   | | | |    | |  | |[ \\ [  ]|____   _| \n",
            "\t\t\\  `-'  /_| |_  _| |_.' / \\ \\/ /     _| |_  \n",
            "\t\t `.___.'|_____||______.'   \\__/     |_____|\n",
            "\t\u001b[0m\n",
            "\u001b[92m\n",
            "             _____                    _                 _             \n",
            "            (____ \\                  | |               | |            \n",
            "             _   \\ \\ ___  _ _ _ ____ | | ___   ____  _ | | ____  ____ \n",
            "            | |   | / _ \\| | | |  _ \\| |/ _ \\ / _  |/ || |/ _  )/ ___)\n",
            "            | |__/ / |_| | | | | | | | | |_| ( ( | ( (_| ( (/ /| |    \n",
            "            |_____/ \\___/ \\____|_| |_|_|\\___/ \\_||_|\\____|\\____)_|    \n",
            "                                                          \n",
            "        \u001b[0m\n",
            "    [INFO] | Downloading Dog.\u001b[0m\n",
            "\u001b[91m   [ERROR] | Missing the validation-annotations-bbox.csv file.\u001b[0m\n",
            "\u001b[94m[DOWNLOAD] | Do you want to download the missing file? [Y/n] \u001b[0my\n",
            "...100%, 16 MB, 10583 KB/s, 1 seconds passed\n",
            "\u001b[94m[DOWNLOAD] | File validation-annotations-bbox.csv downloaded into OID/csv_folder/validation-annotations-bbox.csv.\u001b[0m\n",
            "\n",
            "\u001b[95mDog\u001b[0m\n",
            "    [INFO] | Downloading validation images.\u001b[0m\n",
            "    [INFO] | [INFO] Found 1581 online images for validation.\u001b[0m\n",
            "    [INFO] | Limiting to 10 images.\u001b[0m\n",
            "    [INFO] | Download of 10 images in validation.\u001b[0m\n",
            "100% 10/10 [00:08<00:00,  1.14it/s]\n",
            "    [INFO] | Done!\u001b[0m\n",
            "    [INFO] | Creating labels for Dog of validation.\u001b[0m\n",
            "    [INFO] | Labels creation completed.\u001b[0m\n",
            "    [INFO] | Downloading Cat.\u001b[0m\n",
            "\n",
            "\u001b[95mCat\u001b[0m\n",
            "    [INFO] | Downloading validation images.\u001b[0m\n",
            "    [INFO] | [INFO] Found 337 online images for validation.\u001b[0m\n",
            "    [INFO] | Limiting to 10 images.\u001b[0m\n",
            "    [INFO] | Download of 10 images in validation.\u001b[0m\n",
            "100% 10/10 [00:06<00:00,  1.47it/s]\n",
            "    [INFO] | Done!\u001b[0m\n",
            "    [INFO] | Creating labels for Cat of validation.\u001b[0m\n",
            "    [INFO] | Labels creation completed.\u001b[0m\n",
            "\u001b[92m\n",
            "\t\t   ___   _____  ______            _    _    \n",
            "\t\t .'   `.|_   _||_   _ `.         | |  | |   \n",
            "\t\t/  .-.  \\ | |    | | `. \\ _   __ | |__| |_  \n",
            "\t\t| |   | | | |    | |  | |[ \\ [  ]|____   _| \n",
            "\t\t\\  `-'  /_| |_  _| |_.' / \\ \\/ /     _| |_  \n",
            "\t\t `.___.'|_____||______.'   \\__/     |_____|\n",
            "\t\u001b[0m\n",
            "\u001b[92m\n",
            "             _____                    _                 _             \n",
            "            (____ \\                  | |               | |            \n",
            "             _   \\ \\ ___  _ _ _ ____ | | ___   ____  _ | | ____  ____ \n",
            "            | |   | / _ \\| | | |  _ \\| |/ _ \\ / _  |/ || |/ _  )/ ___)\n",
            "            | |__/ / |_| | | | | | | | | |_| ( ( | ( (_| ( (/ /| |    \n",
            "            |_____/ \\___/ \\____|_| |_|_|\\___/ \\_||_|\\____|\\____)_|    \n",
            "                                                          \n",
            "        \u001b[0m\n",
            "    [INFO] | Downloading Dog.\u001b[0m\n",
            "\u001b[91m   [ERROR] | Missing the test-annotations-bbox.csv file.\u001b[0m\n",
            "\u001b[94m[DOWNLOAD] | Do you want to download the missing file? [Y/n] \u001b[0mY\n",
            "...100%, 49 MB, 14361 KB/s, 3 seconds passed\n",
            "\u001b[94m[DOWNLOAD] | File test-annotations-bbox.csv downloaded into OID/csv_folder/test-annotations-bbox.csv.\u001b[0m\n",
            "\n",
            "\u001b[95mDog\u001b[0m\n",
            "    [INFO] | Downloading test images.\u001b[0m\n",
            "    [INFO] | [INFO] Found 4810 online images for test.\u001b[0m\n",
            "    [INFO] | Limiting to 10 images.\u001b[0m\n",
            "    [INFO] | Download of 10 images in test.\u001b[0m\n",
            "100% 10/10 [00:07<00:00,  1.33it/s]\n",
            "    [INFO] | Done!\u001b[0m\n",
            "    [INFO] | Creating labels for Dog of test.\u001b[0m\n",
            "    [INFO] | Labels creation completed.\u001b[0m\n",
            "    [INFO] | Downloading Cat.\u001b[0m\n",
            "\n",
            "\u001b[95mCat\u001b[0m\n",
            "    [INFO] | Downloading test images.\u001b[0m\n",
            "    [INFO] | [INFO] Found 982 online images for test.\u001b[0m\n",
            "    [INFO] | Limiting to 10 images.\u001b[0m\n",
            "    [INFO] | Download of 10 images in test.\u001b[0m\n",
            "100% 10/10 [00:09<00:00,  1.08it/s]\n",
            "    [INFO] | Done!\u001b[0m\n",
            "    [INFO] | Creating labels for Cat of test.\u001b[0m\n",
            "    [INFO] | Labels creation completed.\u001b[0m\n"
          ]
        }
      ]
    },
    {
      "cell_type": "markdown",
      "source": [
        "Visualise the image\n"
      ],
      "metadata": {
        "id": "oZb96cuhpxx0"
      }
    },
    {
      "cell_type": "code",
      "source": [
        "#python3 main.py visualizer --Dataset desired_folder"
      ],
      "metadata": {
        "id": "yD-HvY_Gp0SE"
      },
      "execution_count": null,
      "outputs": []
    },
    {
      "cell_type": "markdown",
      "source": [
        "Conver Annotations into VOC format"
      ],
      "metadata": {
        "id": "b94yvVm5k-Ug"
      }
    },
    {
      "cell_type": "code",
      "source": [
        "import os\n",
        "import shutil\n",
        "from subprocess import check_output\n",
        "dir = '/content/OID/Dataset'\n",
        "\n",
        "for dataset_dir in os.listdir(dir):\n",
        "  source = f'{dir}/{dataset_dir}/'\n",
        "\n",
        "  for folder in os.listdir(source):\n",
        "    print('Number for files in '+source+folder+'=',len(os.listdir(source+folder)))\n",
        "\n",
        "  for folder in os.listdir(source):\n",
        "    target = f'{source}/{folder}'\n",
        "    output = check_output([\"python\", '/content/oid/OIDv4_annotation_tool/OIDv4_to_VOC.py', \"--sourcepath\" , f\"{source}/{folder}\", \"--dest_path\", f\"{target}\"])"
      ],
      "metadata": {
        "colab": {
          "base_uri": "https://localhost:8080/"
        },
        "id": "PFlwcRdzk92S",
        "outputId": "b1ade30e-d112-4ee5-d8d4-2978d4c5e8d7"
      },
      "execution_count": 14,
      "outputs": [
        {
          "output_type": "stream",
          "name": "stdout",
          "text": [
            "Number for files in Dog= 11\n",
            "Number for files in Cat= 11\n",
            "Number for files in Dog= 11\n",
            "Number for files in Cat= 11\n",
            "Number for files in Dog= 11\n",
            "Number for files in Cat= 11\n"
          ]
        }
      ]
    },
    {
      "cell_type": "code",
      "source": [
        "#Remove Label Folders\n",
        "import shutil\n",
        "def fast_scandir(dirname):\n",
        "    subfolders= [f.path for f in os.scandir(dirname) if f.is_dir()]\n",
        "    for dirname in list(subfolders):\n",
        "        subfolders.extend(fast_scandir(dirname))\n",
        "    return subfolders\n",
        "\n",
        "dirlist= [ label_dir for label_dir in fast_scandir(dir) if os.path.basename(label_dir) == 'Label' ]\n",
        "print(dirlist)\n",
        "for folder in dirlist:\n",
        "  shutil.rmtree(f'{folder}')"
      ],
      "metadata": {
        "id": "ShXreMO1q8FV"
      },
      "execution_count": null,
      "outputs": []
    },
    {
      "cell_type": "code",
      "source": [
        "# Install dependencies in the new environment. You need to force acitvate conda everytime\n",
        "%%shell\n",
        "eval \"$(conda shell.bash hook)\"\n",
        "conda activate myenv\n",
        "#pip install -q tflite-model-maker\n",
        "pip3 install -q pycocotools\n",
        "pip install -q ipykernel\n",
        "pip install -q numpy==1.23.4\n",
        "pip install -q seaborn\n",
        "pip install tflite-model-maker\n",
        "pip freeze"
      ],
      "metadata": {
        "id": "XjIuOnAYYyCm"
      },
      "execution_count": null,
      "outputs": []
    },
    {
      "cell_type": "code",
      "source": [
        "!git clone https://github.com/tensorflow/examples"
      ],
      "metadata": {
        "id": "KF-4S4TYLTkt",
        "colab": {
          "base_uri": "https://localhost:8080/"
        },
        "outputId": "6283da92-dac3-4dc6-bdf9-103b62e5519a"
      },
      "execution_count": 26,
      "outputs": [
        {
          "output_type": "stream",
          "name": "stdout",
          "text": [
            "Cloning into 'examples'...\n",
            "remote: Enumerating objects: 23600, done.\u001b[K\n",
            "remote: Counting objects: 100% (560/560), done.\u001b[K\n",
            "remote: Compressing objects: 100% (336/336), done.\u001b[K\n",
            "remote: Total 23600 (delta 164), reused 509 (delta 144), pack-reused 23040\u001b[K\n",
            "Receiving objects: 100% (23600/23600), 44.09 MiB | 13.29 MiB/s, done.\n",
            "Resolving deltas: 100% (12813/12813), done.\n"
          ]
        }
      ]
    },
    {
      "cell_type": "markdown",
      "source": [
        "Merge all files from train subfolders into 1"
      ],
      "metadata": {
        "id": "xa-GQe-uz6Uh"
      }
    },
    {
      "cell_type": "code",
      "source": [
        "!cp /content/OID/Dataset/train/Dog/* /content/OID/Dataset/train/Cat/\n",
        "!cp /content/OID/Dataset/validation/Dog/* /content/OID/Dataset/validation/Cat/"
      ],
      "metadata": {
        "id": "TcQZt-iV0A1l"
      },
      "execution_count": 34,
      "outputs": []
    },
    {
      "cell_type": "code",
      "source": [
        "# Run your training and eval script as an external python script\n",
        "%%shell\n",
        "eval \"$(conda shell.bash hook)\"\n",
        "conda activate myenv\n",
        "python /content/Train_OID.py"
      ],
      "metadata": {
        "id": "_kgUrn27byMe",
        "colab": {
          "base_uri": "https://localhost:8080/"
        },
        "outputId": "11d6960c-d82b-48e7-de30-8bb6b3dc057c"
      },
      "execution_count": 37,
      "outputs": [
        {
          "output_type": "stream",
          "name": "stdout",
          "text": [
            "/usr/local/envs/myenv/lib/python3.9/site-packages/tensorflow_addons/utils/tfa_eol_msg.py:23: UserWarning: \n",
            "\n",
            "TensorFlow Addons (TFA) has ended development and introduction of new features.\n",
            "TFA has entered a minimal maintenance and release mode until a planned end of life in May 2024.\n",
            "Please modify downstream libraries to take dependencies from other repositories in our TensorFlow community (e.g. Keras, Keras-CV, and Keras-NLP). \n",
            "\n",
            "For more information see: https://github.com/tensorflow/addons/issues/2807 \n",
            "\n",
            "  warnings.warn(\n",
            "/usr/local/envs/myenv/lib/python3.9/site-packages/tensorflow_addons/utils/ensure_tf_install.py:53: UserWarning: Tensorflow Addons supports using Python ops for all Tensorflow versions above or equal to 2.11.0 and strictly below 2.14.0 (nightly versions are not supported). \n",
            " The versions of TensorFlow you are currently using is 2.8.4 and is not supported. \n",
            "Some things might work, some things might not.\n",
            "If you were to encounter a bug, do not file an issue.\n",
            "If you want to make sure you're using a tested and supported configuration, either change the TensorFlow version or the TensorFlow Addons's version. \n",
            "You can find the compatibility matrix in TensorFlow Addon's readme:\n",
            "https://github.com/tensorflow/addons\n",
            "  warnings.warn(\n",
            "\n",
            "Tensorflow Version:\n",
            "2.8.4\n",
            "\n",
            "Training Size - 20\n",
            "Validation Size - 20\n",
            "2023-08-07 16:28:08.008727: I tensorflow/stream_executor/cuda/cuda_gpu_executor.cc:936] successful NUMA node read from SysFS had negative value (-1), but there must be at least one NUMA node, so returning NUMA node zero\n",
            "2023-08-07 16:28:08.044678: I tensorflow/stream_executor/cuda/cuda_gpu_executor.cc:936] successful NUMA node read from SysFS had negative value (-1), but there must be at least one NUMA node, so returning NUMA node zero\n",
            "2023-08-07 16:28:08.045124: I tensorflow/stream_executor/cuda/cuda_gpu_executor.cc:936] successful NUMA node read from SysFS had negative value (-1), but there must be at least one NUMA node, so returning NUMA node zero\n",
            "2023-08-07 16:28:08.045934: I tensorflow/core/platform/cpu_feature_guard.cc:151] This TensorFlow binary is optimized with oneAPI Deep Neural Network Library (oneDNN) to use the following CPU instructions in performance-critical operations:  AVX2 FMA\n",
            "To enable them in other operations, rebuild TensorFlow with the appropriate compiler flags.\n",
            "2023-08-07 16:28:08.046327: I tensorflow/stream_executor/cuda/cuda_gpu_executor.cc:936] successful NUMA node read from SysFS had negative value (-1), but there must be at least one NUMA node, so returning NUMA node zero\n",
            "2023-08-07 16:28:08.046686: I tensorflow/stream_executor/cuda/cuda_gpu_executor.cc:936] successful NUMA node read from SysFS had negative value (-1), but there must be at least one NUMA node, so returning NUMA node zero\n",
            "2023-08-07 16:28:08.047020: I tensorflow/stream_executor/cuda/cuda_gpu_executor.cc:936] successful NUMA node read from SysFS had negative value (-1), but there must be at least one NUMA node, so returning NUMA node zero\n",
            "2023-08-07 16:28:08.762819: I tensorflow/stream_executor/cuda/cuda_gpu_executor.cc:936] successful NUMA node read from SysFS had negative value (-1), but there must be at least one NUMA node, so returning NUMA node zero\n",
            "2023-08-07 16:28:08.763273: I tensorflow/stream_executor/cuda/cuda_gpu_executor.cc:936] successful NUMA node read from SysFS had negative value (-1), but there must be at least one NUMA node, so returning NUMA node zero\n",
            "2023-08-07 16:28:08.763532: I tensorflow/stream_executor/cuda/cuda_gpu_executor.cc:936] successful NUMA node read from SysFS had negative value (-1), but there must be at least one NUMA node, so returning NUMA node zero\n",
            "2023-08-07 16:28:08.763681: W tensorflow/core/common_runtime/gpu/gpu_bfc_allocator.cc:39] Overriding allow_growth setting because the TF_FORCE_GPU_ALLOW_GROWTH environment variable is set. Original config value was 0.\n",
            "2023-08-07 16:28:08.763911: I tensorflow/core/common_runtime/gpu/gpu_device.cc:1525] Created device /job:localhost/replica:0/task:0/device:GPU:0 with 13786 MB memory:  -> device: 0, name: Tesla T4, pci bus id: 0000:00:04.0, compute capability: 7.5\n",
            "Epoch 1/20\n",
            "2023-08-07 16:29:17.986758: I tensorflow/stream_executor/cuda/cuda_dnn.cc:368] Loaded cuDNN version 8900\n",
            "5/5 [==============================] - 66s 2s/step - det_loss: 1.7754 - cls_loss: 1.1605 - box_loss: 0.0123 - reg_l2_loss: 0.0759 - loss: 1.8513 - learning_rate: 0.0066 - gradient_norm: 2.3716 - val_det_loss: 1.6878 - val_cls_loss: 1.1666 - val_box_loss: 0.0104 - val_reg_l2_loss: 0.0759 - val_loss: 1.7637\n",
            "Epoch 2/20\n",
            "5/5 [==============================] - 4s 1s/step - det_loss: 1.7427 - cls_loss: 1.1501 - box_loss: 0.0119 - reg_l2_loss: 0.0759 - loss: 1.8186 - learning_rate: 0.0049 - gradient_norm: 1.6167 - val_det_loss: 1.6324 - val_cls_loss: 1.1387 - val_box_loss: 0.0099 - val_reg_l2_loss: 0.0759 - val_loss: 1.7083\n",
            "Epoch 3/20\n",
            "5/5 [==============================] - 6s 2s/step - det_loss: 1.6931 - cls_loss: 1.1136 - box_loss: 0.0116 - reg_l2_loss: 0.0759 - loss: 1.7690 - learning_rate: 0.0048 - gradient_norm: 1.8019 - val_det_loss: 1.5732 - val_cls_loss: 1.1041 - val_box_loss: 0.0094 - val_reg_l2_loss: 0.0759 - val_loss: 1.6490\n",
            "Epoch 4/20\n",
            "5/5 [==============================] - 7s 2s/step - det_loss: 1.6255 - cls_loss: 1.0895 - box_loss: 0.0107 - reg_l2_loss: 0.0759 - loss: 1.7014 - learning_rate: 0.0046 - gradient_norm: 1.7781 - val_det_loss: 1.5163 - val_cls_loss: 1.0625 - val_box_loss: 0.0091 - val_reg_l2_loss: 0.0759 - val_loss: 1.5922\n",
            "Epoch 5/20\n",
            "5/5 [==============================] - 16s 4s/step - det_loss: 1.5784 - cls_loss: 1.0523 - box_loss: 0.0105 - reg_l2_loss: 0.0759 - loss: 1.6543 - learning_rate: 0.0043 - gradient_norm: 2.1147 - val_det_loss: 1.4399 - val_cls_loss: 1.0060 - val_box_loss: 0.0087 - val_reg_l2_loss: 0.0759 - val_loss: 1.5158\n",
            "Epoch 6/20\n",
            "5/5 [==============================] - 7s 2s/step - det_loss: 1.5129 - cls_loss: 1.0084 - box_loss: 0.0101 - reg_l2_loss: 0.0759 - loss: 1.5888 - learning_rate: 0.0040 - gradient_norm: 3.0189 - val_det_loss: 1.3492 - val_cls_loss: 0.9357 - val_box_loss: 0.0083 - val_reg_l2_loss: 0.0759 - val_loss: 1.4251\n",
            "Epoch 7/20\n",
            "5/5 [==============================] - 5s 1s/step - det_loss: 1.4360 - cls_loss: 0.9588 - box_loss: 0.0095 - reg_l2_loss: 0.0759 - loss: 1.5119 - learning_rate: 0.0037 - gradient_norm: 2.6466 - val_det_loss: 1.2479 - val_cls_loss: 0.8561 - val_box_loss: 0.0078 - val_reg_l2_loss: 0.0759 - val_loss: 1.3238\n",
            "Epoch 8/20\n",
            "5/5 [==============================] - 5s 1s/step - det_loss: 1.3412 - cls_loss: 0.8960 - box_loss: 0.0089 - reg_l2_loss: 0.0759 - loss: 1.4171 - learning_rate: 0.0033 - gradient_norm: 3.6399 - val_det_loss: 1.1346 - val_cls_loss: 0.7696 - val_box_loss: 0.0073 - val_reg_l2_loss: 0.0759 - val_loss: 1.2105\n",
            "Epoch 9/20\n",
            "5/5 [==============================] - 7s 2s/step - det_loss: 1.3416 - cls_loss: 0.8714 - box_loss: 0.0094 - reg_l2_loss: 0.0759 - loss: 1.4175 - learning_rate: 0.0029 - gradient_norm: 3.6702 - val_det_loss: 1.0438 - val_cls_loss: 0.6983 - val_box_loss: 0.0069 - val_reg_l2_loss: 0.0759 - val_loss: 1.1197\n",
            "Epoch 10/20\n",
            "5/5 [==============================] - 8s 2s/step - det_loss: 1.2662 - cls_loss: 0.8302 - box_loss: 0.0087 - reg_l2_loss: 0.0759 - loss: 1.3421 - learning_rate: 0.0025 - gradient_norm: 4.4243 - val_det_loss: 0.9526 - val_cls_loss: 0.6244 - val_box_loss: 0.0066 - val_reg_l2_loss: 0.0759 - val_loss: 1.0285\n",
            "Epoch 11/20\n",
            "5/5 [==============================] - 4s 1s/step - det_loss: 1.2569 - cls_loss: 0.8094 - box_loss: 0.0090 - reg_l2_loss: 0.0759 - loss: 1.3328 - learning_rate: 0.0021 - gradient_norm: 4.4176 - val_det_loss: 0.8930 - val_cls_loss: 0.5741 - val_box_loss: 0.0064 - val_reg_l2_loss: 0.0759 - val_loss: 0.9689\n",
            "Epoch 12/20\n",
            "5/5 [==============================] - 6s 1s/step - det_loss: 1.1369 - cls_loss: 0.7350 - box_loss: 0.0080 - reg_l2_loss: 0.0759 - loss: 1.2128 - learning_rate: 0.0017 - gradient_norm: 3.4685 - val_det_loss: 0.8316 - val_cls_loss: 0.5195 - val_box_loss: 0.0062 - val_reg_l2_loss: 0.0759 - val_loss: 0.9075\n",
            "Epoch 13/20\n",
            "5/5 [==============================] - 7s 2s/step - det_loss: 1.1221 - cls_loss: 0.7310 - box_loss: 0.0078 - reg_l2_loss: 0.0759 - loss: 1.1980 - learning_rate: 0.0013 - gradient_norm: 4.0887 - val_det_loss: 0.7829 - val_cls_loss: 0.4784 - val_box_loss: 0.0061 - val_reg_l2_loss: 0.0759 - val_loss: 0.8588\n",
            "Epoch 14/20\n",
            "5/5 [==============================] - 5s 1s/step - det_loss: 1.0714 - cls_loss: 0.6801 - box_loss: 0.0078 - reg_l2_loss: 0.0759 - loss: 1.1474 - learning_rate: 9.7721e-04 - gradient_norm: 6.6394 - val_det_loss: 0.7564 - val_cls_loss: 0.4570 - val_box_loss: 0.0060 - val_reg_l2_loss: 0.0759 - val_loss: 0.8323\n",
            "Epoch 15/20\n",
            "5/5 [==============================] - 7s 2s/step - det_loss: 1.1298 - cls_loss: 0.7523 - box_loss: 0.0076 - reg_l2_loss: 0.0759 - loss: 1.2057 - learning_rate: 6.7226e-04 - gradient_norm: 6.0065 - val_det_loss: 0.7388 - val_cls_loss: 0.4449 - val_box_loss: 0.0059 - val_reg_l2_loss: 0.0759 - val_loss: 0.8147\n",
            "Epoch 16/20\n",
            "5/5 [==============================] - 7s 2s/step - det_loss: 1.1333 - cls_loss: 0.7097 - box_loss: 0.0085 - reg_l2_loss: 0.0759 - loss: 1.2092 - learning_rate: 4.1718e-04 - gradient_norm: 3.8340 - val_det_loss: 0.7267 - val_cls_loss: 0.4366 - val_box_loss: 0.0058 - val_reg_l2_loss: 0.0759 - val_loss: 0.8026\n",
            "Epoch 17/20\n",
            "5/5 [==============================] - 6s 1s/step - det_loss: 1.0421 - cls_loss: 0.6570 - box_loss: 0.0077 - reg_l2_loss: 0.0759 - loss: 1.1180 - learning_rate: 2.1890e-04 - gradient_norm: 4.4283 - val_det_loss: 0.7193 - val_cls_loss: 0.4322 - val_box_loss: 0.0057 - val_reg_l2_loss: 0.0759 - val_loss: 0.7952\n",
            "Epoch 18/20\n",
            "5/5 [==============================] - 4s 1s/step - det_loss: 1.0884 - cls_loss: 0.6940 - box_loss: 0.0079 - reg_l2_loss: 0.0759 - loss: 1.1643 - learning_rate: 8.2855e-05 - gradient_norm: 4.7251 - val_det_loss: 0.7147 - val_cls_loss: 0.4295 - val_box_loss: 0.0057 - val_reg_l2_loss: 0.0759 - val_loss: 0.7906\n",
            "Epoch 19/20\n",
            "5/5 [==============================] - 5s 1s/step - det_loss: 1.0299 - cls_loss: 0.6326 - box_loss: 0.0079 - reg_l2_loss: 0.0759 - loss: 1.1058 - learning_rate: 1.2738e-05 - gradient_norm: 5.7656 - val_det_loss: 0.7114 - val_cls_loss: 0.4275 - val_box_loss: 0.0057 - val_reg_l2_loss: 0.0759 - val_loss: 0.7873\n",
            "Epoch 20/20\n",
            "5/5 [==============================] - 9s 2s/step - det_loss: 1.0184 - cls_loss: 0.6552 - box_loss: 0.0073 - reg_l2_loss: 0.0759 - loss: 1.0944 - learning_rate: 1.0468e-05 - gradient_norm: 5.2646 - val_det_loss: 0.7092 - val_cls_loss: 0.4266 - val_box_loss: 0.0057 - val_reg_l2_loss: 0.0759 - val_loss: 0.7851\n",
            "2023-08-07 16:31:46.041354: W tensorflow/core/framework/cpu_allocator_impl.cc:82] Allocation of 48168960 exceeds 10% of free system memory.\n",
            "1/1 [==============================] - 7s 7s/step\n",
            "\n",
            "COCO metrics:\n",
            "AP: 0.30311378836631775\n",
            "AP50: 0.6135053038597107\n",
            "AP75: 0.3298186957836151\n",
            "APs: -1.0\n",
            "APm: -1.0\n",
            "APl: 0.3032436966896057\n",
            "ARmax1: 0.42403846979141235\n",
            "ARmax10: 0.5240384340286255\n",
            "ARmax100: 0.5323718190193176\n",
            "ARs: -1.0\n",
            "ARm: -1.0\n",
            "ARl: 0.5323718190193176\n",
            "AP_/Cat: 0.1992504894733429\n",
            "AP_/Dog: 0.4069770872592926\n",
            "\n",
            "2023-08-07 16:31:54.403447: W tensorflow/python/util/util.cc:368] Sets are not currently considered sequences, but this may change in the future, so consider avoiding using them.\n",
            "2023-08-07 16:32:38.435077: W tensorflow/core/common_runtime/graph_constructor.cc:803] Node 'resample_p7/PartitionedCall' has 1 outputs but the _output_shapes attribute specifies shapes for 3 outputs. Output shapes may be inaccurate.\n",
            "2023-08-07 16:32:52.121173: W tensorflow/compiler/mlir/lite/python/tf_tfl_flatbuffer_helpers.cc:357] Ignored output_format.\n",
            "2023-08-07 16:32:52.121213: W tensorflow/compiler/mlir/lite/python/tf_tfl_flatbuffer_helpers.cc:360] Ignored drop_control_dependency.\n",
            "2023-08-07 16:32:52.125184: I tensorflow/cc/saved_model/reader.cc:43] Reading SavedModel from: /tmp/tmpzsmpkxfe\n",
            "2023-08-07 16:32:52.294634: I tensorflow/cc/saved_model/reader.cc:78] Reading meta graph with tags { serve }\n",
            "2023-08-07 16:32:52.294693: I tensorflow/cc/saved_model/reader.cc:119] Reading SavedModel debug info (if present) from: /tmp/tmpzsmpkxfe\n",
            "2023-08-07 16:32:52.872641: I tensorflow/cc/saved_model/loader.cc:228] Restoring SavedModel bundle.\n",
            "2023-08-07 16:32:55.819389: I tensorflow/cc/saved_model/loader.cc:212] Running initialization op on SavedModel bundle at path: /tmp/tmpzsmpkxfe\n",
            "2023-08-07 16:32:57.108051: I tensorflow/cc/saved_model/loader.cc:301] SavedModel load for tags { serve }; Status: success: OK. Took 4982874 microseconds.\n",
            "2023-08-07 16:32:59.371210: I tensorflow/compiler/mlir/tensorflow/utils/dump_mlir_util.cc:237] disabling MLIR crash reproducer, set env var `MLIR_CRASH_REPRODUCER_DIRECTORY` to enable.\n",
            "2023-08-07 16:33:03.351514: I tensorflow/compiler/mlir/lite/flatbuffer_export.cc:1963] Estimated count of arithmetic ops: 6.066 G  ops, equivalently 3.033 G  MACs\n",
            "\n",
            "Estimated count of arithmetic ops: 6.066 G  ops, equivalently 3.033 G  MACs\n",
            "fully_quantize: 0, inference_type: 6, input_inference_type: 3, output_inference_type: 0\n",
            "2023-08-07 16:33:27.028681: I tensorflow/compiler/mlir/lite/flatbuffer_export.cc:1963] Estimated count of arithmetic ops: 6.066 G  ops, equivalently 3.033 G  MACs\n",
            "\n",
            "Estimated count of arithmetic ops: 6.066 G  ops, equivalently 3.033 G  MACs\n",
            "INFO: Created TensorFlow Lite XNNPACK delegate for CPU.\n",
            "20/20 [==============================] - 205s 10s/step\n",
            "\n",
            "COCO metrics tflite\n",
            "AP: 0.17846836149692535\n",
            "AP50: 0.4994579255580902\n",
            "AP75: 0.14851485192775726\n",
            "APs: -1.0\n",
            "APm: -1.0\n",
            "APl: 0.17847174406051636\n",
            "ARmax1: 0.267948716878891\n",
            "ARmax10: 0.3708333373069763\n",
            "ARmax100: 0.37467947602272034\n",
            "ARs: -1.0\n",
            "ARm: -1.0\n",
            "ARl: 0.37467947602272034\n",
            "AP_/Cat: 0.16568021476268768\n",
            "AP_/Dog: 0.19125650823116302\n"
          ]
        },
        {
          "output_type": "execute_result",
          "data": {
            "text/plain": []
          },
          "metadata": {},
          "execution_count": 37
        }
      ]
    }
  ]
}