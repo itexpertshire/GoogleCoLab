{
  "nbformat": 4,
  "nbformat_minor": 0,
  "metadata": {
    "colab": {
      "provenance": [],
      "gpuType": "T4",
      "include_colab_link": true
    },
    "kernelspec": {
      "name": "python3",
      "display_name": "Python 3"
    },
    "language_info": {
      "name": "python"
    },
    "accelerator": "GPU"
  },
  "cells": [
    {
      "cell_type": "markdown",
      "metadata": {
        "id": "view-in-github",
        "colab_type": "text"
      },
      "source": [
        "<a href=\"https://colab.research.google.com/github/itexpertshire/GoogleCoLab/blob/main/Working_Version_TF_Model_Maker.ipynb\" target=\"_parent\"><img src=\"https://colab.research.google.com/assets/colab-badge.svg\" alt=\"Open In Colab\"/></a>"
      ]
    },
    {
      "cell_type": "code",
      "execution_count": 2,
      "metadata": {
        "id": "ubhAiATjXk7a",
        "colab": {
          "base_uri": "https://localhost:8080/"
        },
        "outputId": "c3edab70-c65a-431c-a237-d0c1fca52a78"
      },
      "outputs": [
        {
          "output_type": "stream",
          "name": "stdout",
          "text": [
            "env: PYTHONPATH=# /env/python\n"
          ]
        }
      ],
      "source": [
        "%env PYTHONPATH = # /env/python"
      ]
    },
    {
      "cell_type": "code",
      "source": [
        "# Download and install and update miniconda\n",
        "!wget https://repo.anaconda.com/miniconda/Miniconda3-py39_23.3.1-0-Linux-x86_64.sh\n",
        "!chmod +x Miniconda3-py39_23.3.1-0-Linux-x86_64.sh\n",
        "!./Miniconda3-py39_23.3.1-0-Linux-x86_64.sh -b -f -p /usr/local\n",
        "!conda update -q conda"
      ],
      "metadata": {
        "id": "iwymZeUxYnEt",
        "colab": {
          "base_uri": "https://localhost:8080/"
        },
        "outputId": "be53389e-3d4d-4335-ec98-e9f2349698d7"
      },
      "execution_count": 3,
      "outputs": [
        {
          "output_type": "stream",
          "name": "stdout",
          "text": [
            "--2023-08-05 00:53:47--  https://repo.anaconda.com/miniconda/Miniconda3-py39_23.3.1-0-Linux-x86_64.sh\n",
            "Resolving repo.anaconda.com (repo.anaconda.com)... 104.16.130.3, 104.16.131.3, 2606:4700::6810:8203, ...\n",
            "Connecting to repo.anaconda.com (repo.anaconda.com)|104.16.130.3|:443... connected.\n",
            "HTTP request sent, awaiting response... 200 OK\n",
            "Length: 70605094 (67M) [application/x-sh]\n",
            "Saving to: ‘Miniconda3-py39_23.3.1-0-Linux-x86_64.sh’\n",
            "\n",
            "Miniconda3-py39_23. 100%[===================>]  67.33M  99.4MB/s    in 0.7s    \n",
            "\n",
            "2023-08-05 00:53:47 (99.4 MB/s) - ‘Miniconda3-py39_23.3.1-0-Linux-x86_64.sh’ saved [70605094/70605094]\n",
            "\n",
            "PREFIX=/usr/local\n",
            "Unpacking payload ...\n",
            "                                                                                        \n",
            "Installing base environment...\n",
            "\n",
            "\n",
            "Downloading and Extracting Packages\n",
            "\n",
            "\n",
            "Downloading and Extracting Packages\n",
            "\n",
            "Preparing transaction: - \b\b\\ \b\b| \b\b/ \b\bdone\n",
            "Executing transaction: \\ \b\b| \b\b/ \b\b- \b\b\\ \b\b| \b\b/ \b\b- \b\b\\ \b\b| \b\b/ \b\b- \b\b\\ \b\b| \b\b/ \b\b- \b\b\\ \b\b| \b\b/ \b\b- \b\b\\ \b\b| \b\b/ \b\b- \b\b\\ \b\b| \b\b/ \b\b- \b\b\\ \b\b| \b\bdone\n",
            "installation finished.\n",
            "WARNING:\n",
            "    You currently have a PYTHONPATH environment variable set. This may cause\n",
            "    unexpected behavior when running the Python interpreter in Miniconda3.\n",
            "    For best results, please verify that your PYTHONPATH only points to\n",
            "    directories of packages that are compatible with the Python interpreter\n",
            "    in Miniconda3: /usr/local\n",
            "Collecting package metadata (current_repodata.json): ...working... done\n",
            "Solving environment: ...working... done\n",
            "\n",
            "## Package Plan ##\n",
            "\n",
            "  environment location: /usr/local\n",
            "\n",
            "  added / updated specs:\n",
            "    - conda\n",
            "\n",
            "\n",
            "The following packages will be downloaded:\n",
            "\n",
            "    package                    |            build\n",
            "    ---------------------------|-----------------\n",
            "    ca-certificates-2023.05.30 |       h06a4308_0         120 KB\n",
            "    certifi-2023.7.22          |   py39h06a4308_0         153 KB\n",
            "    conda-23.7.2               |   py39h06a4308_0         1.0 MB\n",
            "    conda-package-handling-2.2.0|   py39h06a4308_0         267 KB\n",
            "    conda-package-streaming-0.9.0|   py39h06a4308_0          27 KB\n",
            "    cryptography-39.0.1        |   py39h9ce1e76_2         1.4 MB\n",
            "    libffi-3.4.4               |       h6a678d5_0         142 KB\n",
            "    openssl-3.0.10             |       h7f8727e_0         5.2 MB\n",
            "    pyopenssl-23.2.0           |   py39h06a4308_0          96 KB\n",
            "    python-3.9.17              |       h955ad1f_0        25.0 MB\n",
            "    requests-2.31.0            |   py39h06a4308_0          96 KB\n",
            "    sqlite-3.41.2              |       h5eee18b_0         1.2 MB\n",
            "    urllib3-1.26.16            |   py39h06a4308_0         201 KB\n",
            "    xz-5.4.2                   |       h5eee18b_0         642 KB\n",
            "    ------------------------------------------------------------\n",
            "                                           Total:        35.5 MB\n",
            "\n",
            "The following packages will be UPDATED:\n",
            "\n",
            "  ca-certificates                     2023.01.10-h06a4308_0 --> 2023.05.30-h06a4308_0 \n",
            "  certifi                          2022.12.7-py39h06a4308_0 --> 2023.7.22-py39h06a4308_0 \n",
            "  conda                               23.3.1-py39h06a4308_0 --> 23.7.2-py39h06a4308_0 \n",
            "  conda-package-han~                   2.0.2-py39h06a4308_0 --> 2.2.0-py39h06a4308_0 \n",
            "  conda-package-str~                   0.7.0-py39h06a4308_0 --> 0.9.0-py39h06a4308_0 \n",
            "  cryptography                        39.0.1-py39h9ce1e76_0 --> 39.0.1-py39h9ce1e76_2 \n",
            "  libffi                                   3.4.2-h6a678d5_6 --> 3.4.4-h6a678d5_0 \n",
            "  openssl                                 1.1.1t-h7f8727e_0 --> 3.0.10-h7f8727e_0 \n",
            "  pyopenssl                           23.0.0-py39h06a4308_0 --> 23.2.0-py39h06a4308_0 \n",
            "  python                                  3.9.16-h7a1cb2a_2 --> 3.9.17-h955ad1f_0 \n",
            "  requests                            2.28.1-py39h06a4308_1 --> 2.31.0-py39h06a4308_0 \n",
            "  sqlite                                  3.41.1-h5eee18b_0 --> 3.41.2-h5eee18b_0 \n",
            "  urllib3                            1.26.15-py39h06a4308_0 --> 1.26.16-py39h06a4308_0 \n",
            "  xz                                      5.2.10-h5eee18b_1 --> 5.4.2-h5eee18b_0 \n",
            "\n",
            "\n",
            "Proceed ([y]/n)? y\n",
            "\n",
            "Preparing transaction: ...working... done\n",
            "Verifying transaction: ...working... done\n",
            "Executing transaction: ...working... done\n"
          ]
        }
      ]
    },
    {
      "cell_type": "code",
      "source": [
        "import sys\n",
        "sys.path.append('/usr/local/lib/python3.9/site-packages')"
      ],
      "metadata": {
        "id": "EWedsUfmYq1s"
      },
      "execution_count": 4,
      "outputs": []
    },
    {
      "cell_type": "code",
      "source": [
        "# Create conda environment with python 3.9\n",
        "!conda create -n myenv python=3.9"
      ],
      "metadata": {
        "id": "4R1a1OxjYtJp"
      },
      "execution_count": null,
      "outputs": []
    },
    {
      "cell_type": "code",
      "source": [
        "# Upload your own train.py or download this existing one\n",
        "#!wget https://raw.githubusercontent.com/wwfish/tflite-model-maker/main/train.py"
      ],
      "metadata": {
        "id": "uyFD8uFYbuhU"
      },
      "execution_count": null,
      "outputs": []
    },
    {
      "cell_type": "code",
      "source": [
        "# Download and Unzip Files\n",
        "#!wget https://storage.googleapis.com/download.tensorflow.org/data/android_figurine.zip\n",
        "#!unzip -q android_figurine.zip"
      ],
      "metadata": {
        "id": "gGP3_XQLZQ3S"
      },
      "execution_count": null,
      "outputs": []
    },
    {
      "cell_type": "code",
      "source": [
        "# Install dependencies in the new environment. You need to force acitvate conda everytime\n",
        "%%shell\n",
        "eval \"$(conda shell.bash hook)\"\n",
        "conda activate myenv\n",
        "#pip install -q tflite-model-maker\n",
        "pip3 install -q pycocotools\n",
        "pip install -q ipykernel\n",
        "pip install -q numpy==1.23.4\n",
        "pip install -q seaborn\n",
        "pip install tflite-model-maker\n",
        "pip freeze"
      ],
      "metadata": {
        "id": "XjIuOnAYYyCm"
      },
      "execution_count": null,
      "outputs": []
    },
    {
      "cell_type": "code",
      "source": [
        "!git clone https://github.com/tensorflow/examples"
      ],
      "metadata": {
        "id": "KF-4S4TYLTkt"
      },
      "execution_count": null,
      "outputs": []
    },
    {
      "cell_type": "code",
      "source": [
        "# Run your training and eval script as an external python script\n",
        "%%shell\n",
        "eval \"$(conda shell.bash hook)\"\n",
        "conda activate myenv\n",
        "python /content/Train.py"
      ],
      "metadata": {
        "id": "_kgUrn27byMe",
        "colab": {
          "base_uri": "https://localhost:8080/"
        },
        "outputId": "65534738-9f56-46e4-98b8-e028a5b751ea"
      },
      "execution_count": 16,
      "outputs": [
        {
          "output_type": "stream",
          "name": "stdout",
          "text": [
            "/usr/local/envs/myenv/lib/python3.9/site-packages/tensorflow_addons/utils/tfa_eol_msg.py:23: UserWarning: \n",
            "\n",
            "TensorFlow Addons (TFA) has ended development and introduction of new features.\n",
            "TFA has entered a minimal maintenance and release mode until a planned end of life in May 2024.\n",
            "Please modify downstream libraries to take dependencies from other repositories in our TensorFlow community (e.g. Keras, Keras-CV, and Keras-NLP). \n",
            "\n",
            "For more information see: https://github.com/tensorflow/addons/issues/2807 \n",
            "\n",
            "  warnings.warn(\n",
            "/usr/local/envs/myenv/lib/python3.9/site-packages/tensorflow_addons/utils/ensure_tf_install.py:53: UserWarning: Tensorflow Addons supports using Python ops for all Tensorflow versions above or equal to 2.11.0 and strictly below 2.14.0 (nightly versions are not supported). \n",
            " The versions of TensorFlow you are currently using is 2.8.4 and is not supported. \n",
            "Some things might work, some things might not.\n",
            "If you were to encounter a bug, do not file an issue.\n",
            "If you want to make sure you're using a tested and supported configuration, either change the TensorFlow version or the TensorFlow Addons's version. \n",
            "You can find the compatibility matrix in TensorFlow Addon's readme:\n",
            "https://github.com/tensorflow/addons\n",
            "  warnings.warn(\n",
            "2023-08-05 03:26:54.939766: W tensorflow/stream_executor/platform/default/dso_loader.cc:64] Could not load dynamic library 'libcuda.so.1'; dlerror: libcuda.so.1: cannot open shared object file: No such file or directory; LD_LIBRARY_PATH: /usr/local/envs/myenv/lib/python3.9/site-packages/cv2/../../lib64:/usr/local/nvidia/lib:/usr/local/nvidia/lib64\n",
            "2023-08-05 03:26:54.939892: W tensorflow/stream_executor/cuda/cuda_driver.cc:269] failed call to cuInit: UNKNOWN ERROR (303)\n",
            "2023-08-05 03:26:54.939931: I tensorflow/stream_executor/cuda/cuda_diagnostics.cc:156] kernel driver does not appear to be running on this host (6c44325cc8a2): /proc/driver/nvidia/version does not exist\n",
            "2023-08-05 03:26:54.946482: I tensorflow/core/platform/cpu_feature_guard.cc:151] This TensorFlow binary is optimized with oneAPI Deep Neural Network Library (oneDNN) to use the following CPU instructions in performance-critical operations:  AVX2 FMA\n",
            "To enable them in other operations, rebuild TensorFlow with the appropriate compiler flags.\n",
            "Figure(900x900)\n",
            "Added 11312 negative examples.Training dataset has now 16968 examples in total.\n",
            "Model: \"sequential\"\n",
            "_________________________________________________________________\n",
            " Layer (type)                Output Shape              Param #   \n",
            "=================================================================\n",
            " hub_keras_layer_v1v2 (HubKe  (None, 1280)             4234118   \n",
            " rasLayerV1V2)                                                   \n",
            "                                                                 \n",
            " dropout (Dropout)           (None, 1280)              0         \n",
            "                                                                 \n",
            " dense (Dense)               (None, 6)                 7686      \n",
            "                                                                 \n",
            "=================================================================\n",
            "Total params: 4,241,804\n",
            "Trainable params: 7,686\n",
            "Non-trainable params: 4,234,118\n",
            "_________________________________________________________________\n",
            "None\n",
            "Epoch 1/5\n",
            "1696/1696 [==============================] - 737s 429ms/step - loss: 0.9378 - accuracy: 0.9118 - val_loss: 0.6614 - val_accuracy: 0.9037\n",
            "Epoch 2/5\n",
            "1696/1696 [==============================] - 714s 421ms/step - loss: 0.9516 - accuracy: 0.9153 - val_loss: 0.6395 - val_accuracy: 0.9132\n",
            "Epoch 3/5\n",
            "1696/1696 [==============================] - 706s 415ms/step - loss: 0.9994 - accuracy: 0.9133 - val_loss: 0.6713 - val_accuracy: 0.9047\n",
            "Epoch 4/5\n",
            "1696/1696 [==============================] - 717s 423ms/step - loss: 1.0274 - accuracy: 0.9121 - val_loss: 0.6594 - val_accuracy: 0.8999\n",
            "Epoch 5/5\n",
            "1696/1696 [==============================] - 717s 423ms/step - loss: 0.9803 - accuracy: 0.9114 - val_loss: 0.6867 - val_accuracy: 0.8899\n",
            "59/59 [==============================] - 79s 1s/step - loss: 0.7548 - accuracy: 0.8700\n",
            "Figure(1000x800)\n",
            "197/197 [==============================] - 232s 1s/step - loss: 0.9469 - accuracy: 0.9868\n",
            "Figure(1000x800)\n",
            "2023-08-05 04:39:25.812673: W tensorflow/python/util/util.cc:368] Sets are not currently considered sequences, but this may change in the future, so consider avoiding using them.\n",
            "2023-08-05 04:39:37.488691: I tensorflow/core/grappler/devices.cc:66] Number of eligible GPUs (core count >= 8, compute capability >= 0.0): 0\n",
            "2023-08-05 04:39:37.488950: I tensorflow/core/grappler/clusters/single_machine.cc:358] Starting new session\n",
            "2023-08-05 04:39:37.819647: I tensorflow/core/grappler/optimizers/meta_optimizer.cc:1164] Optimization results for grappler item: graph_to_optimize\n",
            "  function_optimizer: Graph size after: 2672 nodes (2394), 4257 edges (3977), time = 140.663ms.\n",
            "  function_optimizer: function_optimizer did nothing. time = 0.027ms.\n",
            "\n",
            "/usr/local/envs/myenv/lib/python3.9/site-packages/tensorflow/lite/python/convert.py:746: UserWarning: Statistics for quantized inputs were expected, but not specified; continuing anyway.\n",
            "  warnings.warn(\"Statistics for quantized inputs were expected, but not \"\n",
            "2023-08-05 04:39:41.520639: W tensorflow/compiler/mlir/lite/python/tf_tfl_flatbuffer_helpers.cc:357] Ignored output_format.\n",
            "2023-08-05 04:39:41.520709: W tensorflow/compiler/mlir/lite/python/tf_tfl_flatbuffer_helpers.cc:360] Ignored drop_control_dependency.\n",
            "fully_quantize: 0, inference_type: 6, input_inference_type: 3, output_inference_type: 3\n"
          ]
        },
        {
          "output_type": "execute_result",
          "data": {
            "text/plain": []
          },
          "metadata": {},
          "execution_count": 16
        }
      ]
    }
  ]
}